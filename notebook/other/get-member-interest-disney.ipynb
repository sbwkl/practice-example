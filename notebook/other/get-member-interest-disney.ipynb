{
 "cells": [
  {
   "cell_type": "code",
   "execution_count": null,
   "metadata": {},
   "outputs": [],
   "source": [
    "import numpy as np\n",
    "import pandas as pd\n",
    "import json\n",
    "import swifter\n",
    "\n",
    "data_dir = 'D:/beibei/database/beibei_rebate/'"
   ]
  },
  {
   "cell_type": "code",
   "execution_count": null,
   "metadata": {},
   "outputs": [],
   "source": [
    "rebate_order_info = pd.read_csv(data_dir + 'rebate_order_info_6_9__80c8f135_7fda_461d_989a_91c255c711c5')\n",
    "rebate_order_extra = pd.read_csv(data_dir + 'rebate_order_extra_6_9__5f4605c1_9857_4ec3_8806_be806ab62c4f')"
   ]
  },
  {
   "cell_type": "code",
   "execution_count": null,
   "metadata": {},
   "outputs": [],
   "source": [
    "# order_info = pd.concat([rebate_order_info, rebate_order_extra], axis=1)\n",
    "order_info = rebate_order_info.merge(rebate_order_extra, left_on='id', right_on='oid', suffixes=('_info', '_extra'), how='left')"
   ]
  },
  {
   "cell_type": "code",
   "execution_count": null,
   "metadata": {},
   "outputs": [],
   "source": [
    "def get_category(row):\n",
    "    try:\n",
    "        if row['item_info'] is None:\n",
    "            return None\n",
    "        item_info = json.loads(row['item_info'])\n",
    "        category = item_info.get('itemCategoryName')\n",
    "        if category is None:\n",
    "            category = item_info.get('cid1Name')\n",
    "        return category\n",
    "    except Exception as e:\n",
    "        pass\n",
    "    return None\n",
    "\n",
    "order_info['item_category'] = order_info.swifter.apply(lambda row: get_category(row), axis=1)\n"
   ]
  },
  {
   "cell_type": "code",
   "execution_count": null,
   "metadata": {},
   "outputs": [],
   "source": [
    "count_df = order_info[['item_category', 'uid', 'trade_id']]\n",
    "counted_df = count_df.groupby(by=['item_category'], as_index=False)['trade_id'].count()"
   ]
  },
  {
   "cell_type": "code",
   "execution_count": null,
   "metadata": {},
   "outputs": [],
   "source": [
    "counted_df = counted_df.sort_values(by=['trade_id'], ascending=False)\n",
    "counted_df.to_csv(data_dir + 'category-rank-2022.6-9.csv')"
   ]
  },
  {
   "cell_type": "code",
   "execution_count": null,
   "metadata": {},
   "outputs": [],
   "source": [
    "valid_order = order_info.loc[(order_info['order_status'].isin([1,3,4,6])) & (order_info['o_tags'].str.contains('SELF'))]\n",
    "\n"
   ]
  },
  {
   "cell_type": "code",
   "execution_count": null,
   "metadata": {},
   "outputs": [],
   "source": [
    "def save_tmp_order():\n",
    "    tmp = valid_order.loc[(valid_order['uid'] == 105532235) & (valid_order['item_category'] == '童装/婴儿装/亲子装')]\n",
    "    tmp.to_csv('tmp.csv')\n"
   ]
  },
  {
   "cell_type": "code",
   "execution_count": null,
   "metadata": {},
   "outputs": [],
   "source": [
    "\n",
    "women_dress = valid_order.loc[valid_order['item_category'] == '女装/女士精品']\n",
    "kid_dress = valid_order.loc[valid_order['item_category'] == '童装/婴儿装/亲子装']\n",
    "\n",
    "\n",
    "for idx, category_order in enumerate([women_dress, kid_dress]):\n",
    "    category_count_df = category_order[['item_category', 'uid', 'trade_id']]\n",
    "    category_counted_df = category_count_df.groupby(by=['uid'], as_index=False)['trade_id'].count()\n",
    "    category_counted_df = category_counted_df.sort_values(by=['trade_id'], ascending=False)\n",
    "    \n",
    "    filename = '%soutput/category-rank-%s-2022.6-9.csv' % (data_dir, idx)\n",
    "    category_counted_df.to_csv(filename)\n",
    "\n",
    "\n"
   ]
  }
 ],
 "metadata": {
  "kernelspec": {
   "display_name": "Python 3.7.9 ('py37')",
   "language": "python",
   "name": "python3"
  },
  "language_info": {
   "codemirror_mode": {
    "name": "ipython",
    "version": 3
   },
   "file_extension": ".py",
   "mimetype": "text/x-python",
   "name": "python",
   "nbconvert_exporter": "python",
   "pygments_lexer": "ipython3",
   "version": "3.7.9"
  },
  "orig_nbformat": 4,
  "vscode": {
   "interpreter": {
    "hash": "62cd4df33508bec17bc606ac270433f111864364a989bfc7ac79dea86ca91c98"
   }
  }
 },
 "nbformat": 4,
 "nbformat_minor": 2
}
