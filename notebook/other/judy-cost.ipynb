{
 "cells": [
  {
   "cell_type": "code",
   "execution_count": null,
   "metadata": {},
   "outputs": [],
   "source": [
    "import pandas as pd\n",
    "from datetime import datetime\n",
    "import calendar\n",
    "import md5\n",
    "import json"
   ]
  },
  {
   "cell_type": "code",
   "execution_count": null,
   "metadata": {},
   "outputs": [],
   "source": [
    "df = pd.DataFrame([['R1001','W1234','HZ4','TZASN000000',11.0,1.0]], columns=['wms_company_id', 'warehouse_sku', 'lot', 'wms_stock', 'wms_lock_stock','warehouse'])\n",
    "df['sku'] = df['warehouse_sku']\n",
    "\n",
    "df"
   ]
  },
  {
   "cell_type": "code",
   "execution_count": null,
   "metadata": {},
   "outputs": [],
   "source": [
    "secret_key = \"c2dec854c72c6ffa6dd69e51b8b0a129\"\n",
    "\n",
    "data = json.dumps([{\"sku_id\": \"30607099\", \"pid\": \"1018985\"}, {\"sku_id\": \"30607112\", \"pid\": \"1018991\"}, {\"sku_id\": \"30607122\", \"pid\": \"1018993\"}, {\"sku_id\": \"30607125\", \"pid\": \"1018994\"}, {\"sku_id\": \"30607126\", \"pid\": \"1018995\"}, {\"sku_id\": \"30607129\", \"pid\": \"1018996\"}, {\"sku_id\": \"30607132\", \"pid\": \"1018997\"}, {\"sku_id\": \"31430288\", \"pid\": \"1085195\"}, {\"sku_id\": \"31430292\", \"pid\": \"1085196\"}, {\"sku_id\": \"31508378\", \"pid\": \"1091935\"}, {\"sku_id\": \"31508381\", \"pid\": \"1091938\"}, {\"sku_id\": \"31508416\", \"pid\": \"1091941\"}, {\"sku_id\": \"31508483\", \"pid\": \"1091954\"}, {\"sku_id\": \"31604012\", \"pid\": \"1099074\"}, {\"sku_id\": \"31604056\", \"pid\": \"1099075\"}, {\"sku_id\": \"31604069\", \"pid\": \"1099076\"}, {\"sku_id\": \"31604070\", \"pid\": \"1099077\"}, {\"sku_id\": \"31606349\", \"pid\": \"1099268\"}, {\"sku_id\": \"31606350\", \"pid\": \"1099269\"}, {\"sku_id\": \"31606377\", \"pid\": \"1099272\"}, {\"sku_id\": \"31606406\", \"pid\": \"1099277\"}, {\"sku_id\": \"31606407\", \"pid\": \"1099278\"}, {\"sku_id\": \"31606408\", \"pid\": \"1099279\"}, {\"sku_id\": \"31606409\", \"pid\": \"1099280\"}, {\"sku_id\": \"31606411\", \"pid\": \"1099281\"}, {\"sku_id\": \"31606412\", \"pid\": \"1099282\"}, {\"sku_id\": \"31644686\", \"pid\": \"1102733\"}, {\"sku_id\": \"31644689\", \"pid\": \"1102736\"}, {\"sku_id\": \"31644700\", \"pid\": \"1102738\"}, {\"sku_id\": \"31644701\", \"pid\": \"1102739\"}, {\"sku_id\": \"31644702\", \"pid\": \"1102740\"}, {\"sku_id\": \"31644703\", \"pid\": \"1102741\"}, {\"sku_id\": \"31644709\", \"pid\": \"1102743\"}, {\"sku_id\": \"31644710\", \"pid\": \"1102744\"}, {\"sku_id\": \"31644711\", \"pid\": \"1102745\"}, {\"sku_id\": \"31644712\", \"pid\": \"1102746\"}, {\"sku_id\": \"31644713\", \"pid\": \"1102747\"}, {\"sku_id\": \"31644714\", \"pid\": \"1102748\"}, {\"sku_id\": \"31644716\", \"pid\": \"1102749\"}, {\"sku_id\": \"31644758\", \"pid\": \"1102754\"}, {\"sku_id\": \"31644770\", \"pid\": \"1102756\"}, {\"sku_id\": \"31644772\", \"pid\": \"1102758\"}, {\"sku_id\": \"31644774\", \"pid\": \"1102759\"}, {\"sku_id\": \"31644787\", \"pid\": \"1102764\"}, {\"sku_id\": \"31644796\", \"pid\": \"1102766\"}, {\"sku_id\": \"31645204\", \"pid\": \"1102803\"}, {\"sku_id\": \"31645205\", \"pid\": \"1102804\"}, {\"sku_id\": \"31645226\", \"pid\": \"1102807\"}, {\"sku_id\": \"31645230\", \"pid\": \"1102809\"}, {\"sku_id\": \"31645231\", \"pid\": \"1102810\"}, {\"sku_id\": \"31645232\", \"pid\": \"1102811\"}, {\"sku_id\": \"31645623\", \"pid\": \"1102817\"}, {\"sku_id\": \"31645724\", \"pid\": \"1102829\"}, {\"sku_id\": \"31645737\", \"pid\": \"1102831\"}, {\"sku_id\": \"31645738\", \"pid\": \"1102832\"}, {\"sku_id\": \"31645739\", \"pid\": \"1102833\"}, {\"sku_id\": \"31645740\", \"pid\": \"1102834\"}, {\"sku_id\": \"31645741\", \"pid\": \"1102835\"}, {\"sku_id\": \"31645744\", \"pid\": \"1102837\"}, {\"sku_id\": \"31645747\", \"pid\": \"1102839\"}, {\"sku_id\": \"31645748\", \"pid\": \"1102840\"}, {\"sku_id\": \"31645761\", \"pid\": \"1102843\"}, {\"sku_id\": \"31645762\", \"pid\": \"1102844\"}, {\"sku_id\": \"31647112\", \"pid\": \"1102997\"}, {\"sku_id\": \"31647146\", \"pid\": \"1103003\"}, {\"sku_id\": \"31667058\", \"pid\": \"1105010\"}, {\"sku_id\": \"31781612\", \"pid\": \"1114948\"}, {\"sku_id\": \"31781615\", \"pid\": \"1114949\"}, {\"sku_id\": \"31781634\", \"pid\": \"1114951\"}, {\"sku_id\": \"31841422\", \"pid\": \"1118344\"}, {\"sku_id\": \"31841423\", \"pid\": \"1118345\"}, {\"sku_id\": \"31841424\", \"pid\": \"1118346\"}, {\"sku_id\": \"31841425\", \"pid\": \"1118347\"}, {\"sku_id\": \"31841430\", \"pid\": \"1118352\"}, {\"sku_id\": \"31841433\", \"pid\": \"1118355\"}, {\"sku_id\": \"31858638\", \"pid\": \"1119727\"}, {\"sku_id\": \"31858639\", \"pid\": \"1119728\"}, {\"sku_id\": \"31868064\", \"pid\": \"1120600\"}, {\"sku_id\": \"31868065\", \"pid\": \"1120601\"}, {\"sku_id\": \"31868066\", \"pid\": \"1120602\"}, {\"sku_id\": \"31868067\", \"pid\": \"1120603\"}, {\"sku_id\": \"31868068\", \"pid\": \"1120604\"}, {\"sku_id\": \"31868069\", \"pid\": \"1120605\"}, {\"sku_id\": \"31868070\", \"pid\": \"1120606\"}, {\"sku_id\": \"31868071\", \"pid\": \"1120607\"}, {\"sku_id\": \"31868072\", \"pid\": \"1120608\"}, {\"sku_id\": \"31868073\", \"pid\": \"1120609\"}, {\"sku_id\": \"31868074\", \"pid\": \"1120610\"}, {\"sku_id\": \"31868075\", \"pid\": \"1120611\"}, {\"sku_id\": \"31868076\", \"pid\": \"1120612\"}, {\"sku_id\": \"31868079\", \"pid\": \"1120615\"}, {\"sku_id\": \"31868080\", \"pid\": \"1120616\"}, {\"sku_id\": \"31868081\", \"pid\": \"1120617\"}, {\"sku_id\": \"31868082\", \"pid\": \"1120618\"}, {\"sku_id\": \"31868083\", \"pid\": \"1120619\"}, {\"sku_id\": \"31868085\", \"pid\": \"1120621\"}, {\"sku_id\": \"31868086\", \"pid\": \"1120622\"}, {\"sku_id\": \"31868087\", \"pid\": \"1120623\"}, {\"sku_id\": \"31868088\", \"pid\": \"1120624\"}, {\"sku_id\": \"31868089\", \"pid\": \"1120625\"}, {\"sku_id\": \"31868090\", \"pid\": \"1120626\"}, {\"sku_id\": \"31868091\", \"pid\": \"1120627\"}, {\"sku_id\": \"31868092\", \"pid\": \"1120628\"}, {\"sku_id\": \"31868093\", \"pid\": \"1120629\"}, {\"sku_id\": \"31868094\", \"pid\": \"1120630\"}, {\"sku_id\": \"31868096\", \"pid\": \"1120632\"}, {\"sku_id\": \"31868097\", \"pid\": \"1120633\"}, {\"sku_id\": \"31868099\", \"pid\": \"1120635\"}, {\"sku_id\": \"31868124\", \"pid\": \"1120637\"}, {\"sku_id\": \"31868125\", \"pid\": \"1120638\"}, {\"sku_id\": \"31868126\", \"pid\": \"1120639\"}, {\"sku_id\": \"31868127\", \"pid\": \"1120640\"}, {\"sku_id\": \"31868128\", \"pid\": \"1120641\"}, {\"sku_id\": \"31868130\", \"pid\": \"1120643\"}, {\"sku_id\": \"31868131\", \"pid\": \"1120644\"}, {\"sku_id\": \"31868132\", \"pid\": \"1120645\"}, {\"sku_id\": \"31868133\", \"pid\": \"1120646\"}, {\"sku_id\": \"31868134\", \"pid\": \"1120647\"}, {\"sku_id\": \"31868135\", \"pid\": \"1120648\"}, {\"sku_id\": \"31868136\", \"pid\": \"1120649\"}, {\"sku_id\": \"31868137\", \"pid\": \"1120650\"}, {\"sku_id\": \"31868138\", \"pid\": \"1120651\"}, {\"sku_id\": \"31873647\", \"pid\": \"1121157\"}, {\"sku_id\": \"31873648\", \"pid\": \"1121158\"}, {\"sku_id\": \"31873649\", \"pid\": \"1121159\"}, {\"sku_id\": \"31879958\", \"pid\": \"1121733\"}, {\"sku_id\": \"31969155\", \"pid\": \"1129997\"}, {\"sku_id\": \"31969156\", \"pid\": \"1129998\"}, {\"sku_id\": \"31969158\", \"pid\": \"1130000\"}, {\"sku_id\": \"31969162\", \"pid\": \"1130004\"}, {\"sku_id\": \"31969164\", \"pid\": \"1130006\"}, {\"sku_id\": \"32079084\", \"pid\": \"1139835\"}, {\"sku_id\": \"32079085\", \"pid\": \"1139836\"}, {\"sku_id\": \"32079086\", \"pid\": \"1139837\"}, {\"sku_id\": \"32079087\", \"pid\": \"1139838\"}, {\"sku_id\": \"32079088\", \"pid\": \"1139839\"}, {\"sku_id\": \"32079089\", \"pid\": \"1139840\"}, {\"sku_id\": \"32079090\", \"pid\": \"1139841\"}, {\"sku_id\": \"32079091\", \"pid\": \"1139842\"}, {\"sku_id\": \"32104979\", \"pid\": \"1141984\"}, {\"sku_id\": \"32104984\", \"pid\": \"1141986\"}, {\"sku_id\": \"32124628\", \"pid\": \"1144080\"}, {\"sku_id\": \"32130133\", \"pid\": \"1144638\"}, {\"sku_id\": \"32130135\", \"pid\": \"1144640\"}, {\"sku_id\": \"32180406\", \"pid\": \"1149164\"}, {\"sku_id\": \"32180420\", \"pid\": \"1149169\"}, {\"sku_id\": \"32180455\", \"pid\": \"1149175\"}, {\"sku_id\": \"32265981\", \"pid\": \"1157596\"}, {\"sku_id\": \"32313723\", \"pid\": \"1162197\"}, {\"sku_id\": \"32400849\", \"pid\": \"1162200\"}, {\"sku_id\": \"32313731\", \"pid\": \"1162201\"}, {\"sku_id\": \"32313735\", \"pid\": \"1162203\"}, {\"sku_id\": \"32313942\", \"pid\": \"1162223\"}, {\"sku_id\": \"32313955\", \"pid\": \"1162226\"}, {\"sku_id\": \"32313956\", \"pid\": \"1162227\"}, {\"sku_id\": \"32403382\", \"pid\": \"1169575\"}, {\"sku_id\": \"32403406\", \"pid\": \"1169580\"}, {\"sku_id\": \"32403407\", \"pid\": \"1169581\"}, {\"sku_id\": \"32403408\", \"pid\": \"1169582\"}, {\"sku_id\": \"32408088\", \"pid\": \"1169952\"}, {\"sku_id\": \"32470412\", \"pid\": \"1175660\"}, {\"sku_id\": \"32470424\", \"pid\": \"1175664\"}, {\"sku_id\": \"32470555\", \"pid\": \"1175669\"}, {\"sku_id\": \"32470573\", \"pid\": \"1175671\"}, {\"sku_id\": \"32470654\", \"pid\": \"1175679\"}, {\"sku_id\": \"32470666\", \"pid\": \"1175684\"}, {\"sku_id\": \"32470713\", \"pid\": \"1175692\"}, {\"sku_id\": \"32470771\", \"pid\": \"1175698\"}, {\"sku_id\": \"32470985\", \"pid\": \"1175709\"}, {\"sku_id\": \"32471047\", \"pid\": \"1175715\"}, {\"sku_id\": \"32639984\", \"pid\": \"1190736\"}, {\"sku_id\": \"32639986\", \"pid\": \"1190738\"}, {\"sku_id\": \"32646693\", \"pid\": \"1191304\"}, {\"sku_id\": \"32646695\", \"pid\": \"1191306\"}, {\"sku_id\": \"32646696\", \"pid\": \"1191307\"}, {\"sku_id\": \"32646697\", \"pid\": \"1191308\"}, {\"sku_id\": \"32646698\", \"pid\": \"1191309\"}, {\"sku_id\": \"32646699\", \"pid\": \"1191310\"}, {\"sku_id\": \"32646700\", \"pid\": \"1191311\"}, {\"sku_id\": \"32646701\", \"pid\": \"1191312\"}, {\"sku_id\": \"32646702\", \"pid\": \"1191313\"}, {\"sku_id\": \"32646704\", \"pid\": \"1191315\"}, {\"sku_id\": \"32646705\", \"pid\": \"1191316\"}, {\"sku_id\": \"32655987\", \"pid\": \"1192162\"}, {\"sku_id\": \"32655997\", \"pid\": \"1192164\"}, {\"sku_id\": \"32656082\", \"pid\": \"1192170\"}, {\"sku_id\": \"32656135\", \"pid\": \"1192175\"}, {\"sku_id\": \"32657180\", \"pid\": \"1192286\"}, {\"sku_id\": \"32657204\", \"pid\": \"1192289\"}, {\"sku_id\": \"32657221\", \"pid\": \"1192292\"}, {\"sku_id\": \"157384099\", \"pid\": \"1192298\"}, {\"sku_id\": \"157384102\", \"pid\": \"1192298\"}, {\"sku_id\": \"161174490\", \"pid\": \"1192298\"}, {\"sku_id\": \"32657304\", \"pid\": \"1192299\"}, {\"sku_id\": \"32793724\", \"pid\": \"1202593\"}, {\"sku_id\": \"32793726\", \"pid\": \"1202595\"}, {\"sku_id\": \"32793727\", \"pid\": \"1202596\"}, {\"sku_id\": \"32793728\", \"pid\": \"1202597\"}, {\"sku_id\": \"32793729\", \"pid\": \"1202598\"}, {\"sku_id\": \"32793730\", \"pid\": \"1202599\"}])\n",
    "request_time = '2019-05-14 08:26:37'\n",
    "\n",
    "sign_str = secret_key + \"app_idejljdata\" + str(data) + \\\n",
    "           \"formatjsonmethodbeibei.outer.sku.qty.getsession3e0fc4c57317710059683e73b2b37timestamp\" + \\\n",
    "           str(request_time) + secret_key\n",
    "md5.new(sign_str).hexdigest().upper()"
   ]
  },
  {
   "cell_type": "code",
   "execution_count": null,
   "metadata": {},
   "outputs": [],
   "source": [
    "query_day = '2019-04-11'\n",
    "in_day = datetime.strptime(query_day, '%Y-%m-%d').date()\n",
    "mon_days = calendar.monthrange(int(str(in_day)[0:4]), int(str(in_day)[5:7]))[1]\n",
    "print(in_day)\n",
    "print(mon_days)"
   ]
  },
  {
   "cell_type": "code",
   "execution_count": null,
   "metadata": {},
   "outputs": [],
   "source": [
    "usr_input_cost_code = [\n",
    "            '10101',\n",
    "            '103',\n",
    "            '302',\n",
    "            '303',\n",
    "            '304',\n",
    "            '305'\n",
    "        ]\n",
    "\n",
    "df_oms_express_data = pd.read_csv('bug-201904110040201984.csv')\n",
    "\n",
    "\n",
    "df_cost_rules = pd.read_csv('df_cost_rules.csv')\n",
    "df_rules_oms_data = pd.merge(df_cost_rules, df_oms_express_data,\n",
    "                                     on=['cost_center_code'],\n",
    "                                     how='inner')\n",
    "\n",
    "df_shipping = df_rules_oms_data[[\n",
    "    'company_code',\n",
    "    'shipping_no',\n",
    "    'cost_code',\n",
    "    'sale_channel',\n",
    "    'cost_center_code',\n",
    "    'vendor_code'\n",
    "]]\n",
    "df_shipping['cost_date'] = '2019-04-11'\n",
    "print(df_cost_rules.head())\n",
    "for index, row in df_cost_rules.iterrows():\n",
    "    print(row)\n",
    "    cost_code = row.get('cost_code')\n",
    "    charge_unit_code = row.get('charge_unit_code')\n",
    "    cost_center_code = row.get('cost_center_code')\n",
    "\n",
    "    if cost_code in usr_input_cost_code:\n",
    "        print(u'规则发现用户录入数据项,跳过规则计算处理'\n",
    "                    u' cost_code: {}, cost_center_code: {}, charge_unit_code: {}'\n",
    "                    .format(cost_code, cost_center_code, charge_unit_code))\n",
    "        continue  # 用户录入数据，直接跳过\n",
    "\n",
    "    unit_price = row.get('unit_price')\n",
    "\n",
    "    df_local = df_shipping.loc[\n",
    "        (df_shipping['cost_code'] == cost_code) & (df_shipping['cost_center_code'] == cost_center_code)]\n",
    "    pkg_amount = df_local.shape[0]\n",
    "    if pkg_amount == 0:\n",
    "        continue\n",
    "\n",
    "    do_save = False\n",
    "    if charge_unit_code == '01':  # 元/单\n",
    "        df_local['cost_amount'] = unit_price\n",
    "        do_save = True\n",
    "        print(u'处理 cost_code: {}, cost_center_code: {}, charge_unit_code: {}'\n",
    "                    .format(cost_code, cost_center_code, charge_unit_code))\n",
    "    elif charge_unit_code == '02':  # 元/月\n",
    "        df_local['cost_amount'] = unit_price / mon_days / pkg_amount\n",
    "        do_save = True\n",
    "        print(u'处理 cost_code: {}, cost_center_code: {}, charge_unit_code: {}'\n",
    "                    .format(cost_code, cost_center_code, charge_unit_code))\n",
    "    elif charge_unit_code == '03':  # 元/年\n",
    "        df_local['cost_amount'] = unit_price / 365 / pkg_amount\n",
    "        do_save = True\n",
    "        print(u'处理 cost_code: {}, cost_center_code: {}, charge_unit_code: {}'\n",
    "                    .format(cost_code, cost_center_code, charge_unit_code))\n",
    "    elif charge_unit_code == '06':  # 元/日\n",
    "        df_local['cost_amount'] = unit_price / pkg_amount\n",
    "        do_save = True\n",
    "        print(u'处理 cost_code: {}, cost_center_code: {}, charge_unit_code: {}'\n",
    "                    .format(cost_code, cost_center_code, charge_unit_code))\n",
    "    else:\n",
    "        print('charge_unit_code: {}'.format(cost_code))\n",
    "        print('This charger_unit_code calculated manually now! ')\n",
    "\n",
    "    # 保存规则值到 db\n",
    "    if do_save:\n",
    "        print('保存到 DB')\n",
    "        print(df_local)"
   ]
  },
  {
   "cell_type": "code",
   "execution_count": null,
   "metadata": {},
   "outputs": [],
   "source": [
    "a = {\n",
    "    '110':[1,2,3],\n",
    "    '111':[4,5]\n",
    "}\n",
    "b = {\n",
    "    '110':[7,8],\n",
    "    '112':[9,0]\n",
    "}\n"
   ]
  },
  {
   "cell_type": "code",
   "execution_count": null,
   "metadata": {},
   "outputs": [],
   "source": [
    "dict([(k, a[k] + b[k]) for k in set(a) & set(b)])\n",
    "# dict(a.items() + b.items())\n",
    "# set(a) & set(b)"
   ]
  }
 ],
 "metadata": {
  "kernelspec": {
   "display_name": "py36",
   "language": "python",
   "name": "py36"
  },
  "language_info": {
   "codemirror_mode": {
    "name": "ipython",
    "version": 3
   },
   "file_extension": ".py",
   "mimetype": "text/x-python",
   "name": "python",
   "nbconvert_exporter": "python",
   "pygments_lexer": "ipython3",
   "version": "3.6.8"
  }
 },
 "nbformat": 4,
 "nbformat_minor": 2
}
