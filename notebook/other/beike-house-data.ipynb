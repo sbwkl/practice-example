{
 "cells": [
  {
   "cell_type": "code",
   "execution_count": 3,
   "metadata": {},
   "outputs": [],
   "source": [
    "import requests\n",
    "import json\n",
    "import pandas as pd"
   ]
  },
  {
   "cell_type": "code",
   "execution_count": 13,
   "metadata": {},
   "outputs": [],
   "source": [
    "def crawl_house_data():\n",
    "    for idx in range(1, 122):\n",
    "        res = requests.get('https://hz.fang.ke.com/loupan/pg{}/?_t=1'.format(idx))\n",
    "        with open('house-{}.json'.format(idx), 'w', encoding='utf-8') as f:\n",
    "            f.write(json.dumps(res.json(), ensure_ascii=False))"
   ]
  },
  {
   "cell_type": "code",
   "execution_count": 9,
   "metadata": {},
   "outputs": [],
   "source": [
    "def json_to_csv():\n",
    "    house_data_list = []\n",
    "    for idx in range(1, 122):\n",
    "        with open('house-{}.json'.format(idx), 'r', encoding='utf-8') as f:\n",
    "            house = json.loads(f.read())\n",
    "            house_data_list +=house.get('data', {}).get('list')\n",
    "    house_df = pd.json_normalize(house_data_list, max_level=1)\n",
    "    return house_df"
   ]
  },
  {
   "cell_type": "code",
   "execution_count": 11,
   "metadata": {},
   "outputs": [],
   "source": [
    "house_df = json_to_csv()\n",
    "house_df.to_csv('house.csv')"
   ]
  },
  {
   "cell_type": "code",
   "execution_count": 14,
   "metadata": {},
   "outputs": [],
   "source": [
    "# crawl_house_data()"
   ]
  }
 ],
 "metadata": {
  "kernelspec": {
   "display_name": "Python 3.7.9 ('py37')",
   "language": "python",
   "name": "python3"
  },
  "language_info": {
   "codemirror_mode": {
    "name": "ipython",
    "version": 3
   },
   "file_extension": ".py",
   "mimetype": "text/x-python",
   "name": "python",
   "nbconvert_exporter": "python",
   "pygments_lexer": "ipython3",
   "version": "3.7.9"
  },
  "orig_nbformat": 4,
  "vscode": {
   "interpreter": {
    "hash": "62cd4df33508bec17bc606ac270433f111864364a989bfc7ac79dea86ca91c98"
   }
  }
 },
 "nbformat": 4,
 "nbformat_minor": 2
}
