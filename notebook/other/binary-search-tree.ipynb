{
 "cells": [
  {
   "cell_type": "code",
   "execution_count": 49,
   "metadata": {},
   "outputs": [],
   "source": [
    "import random\n",
    "\n",
    "def insertTreeNode(t, label):\n",
    "    v = t\n",
    "    stop = False\n",
    "    while v and not stop and v.get('label') != label:\n",
    "        if v.get('label') > label:\n",
    "            if v.get('left'):\n",
    "                v = v.get('left')\n",
    "            else:\n",
    "                v['left'] = {\n",
    "                    'label': label\n",
    "                }\n",
    "                stop = True\n",
    "        if v.get('label') < label:\n",
    "            if v.get('right'):\n",
    "                v = v.get('right')\n",
    "            else:\n",
    "                v['right'] = {\n",
    "                    'label': label\n",
    "                }\n",
    "                stop = True\n",
    "    if not t:\n",
    "        # root of t is nil\n",
    "        t = {}\n",
    "        t['label'] = label\n",
    "    return t;\n",
    "\n",
    "tree = None\n",
    "for i in range(1, 10):\n",
    "    label = random.randint(10, 99)\n",
    "    tree = insertTreeNode(tree, label)\n",
    "print(tree)"
   ]
  }
 ],
 "metadata": {
  "kernelspec": {
   "display_name": "py36",
   "language": "python",
   "name": "py36"
  },
  "language_info": {
   "codemirror_mode": {
    "name": "ipython",
    "version": 3
   },
   "file_extension": ".py",
   "mimetype": "text/x-python",
   "name": "python",
   "nbconvert_exporter": "python",
   "pygments_lexer": "ipython3",
   "version": "3.6.8"
  }
 },
 "nbformat": 4,
 "nbformat_minor": 2
}
