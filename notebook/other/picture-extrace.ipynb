{
 "cells": [
  {
   "cell_type": "code",
   "execution_count": null,
   "metadata": {},
   "outputs": [],
   "source": [
    "from matplotlib import pyplot as plt\n",
    "import cv2\n",
    "import numpy as np\n",
    "import json"
   ]
  },
  {
   "cell_type": "code",
   "execution_count": null,
   "metadata": {},
   "outputs": [],
   "source": [
    "path = 'pe-1.png'\n",
    "image = cv2.imread(path)\n",
    "image = cv2.cvtColor(image, cv2.COLOR_BGR2HSV)\n",
    "hsv_color1 = np.asarray([0,40,40])\n",
    "hsv_color2 = np.asarray([0,100,100])\n",
    "\n",
    "\n",
    "\n",
    "mask = cv2.inRange(image, hsv_color1, hsv_color2)\n",
    "\n",
    "# cv2.imshow('Object Detection', mask)\n",
    "\n",
    "# mask = cv2.cvtColor(mask, cv2.COLOR_HSV2RGB)\n",
    "plt.imshow(mask, cmap='gray_r')\n",
    "# plt.imshow(mask, cmap='hsv')\n",
    "# plt.imshow(mask)\n",
    "plt.show()\n",
    "# plt.savefig('out-pe-1-1.png',  transparent=True)\n",
    "\n",
    "# cv2.imwrite('out-pe-1-1.png', mask)\n"
   ]
  },
  {
   "cell_type": "code",
   "execution_count": null,
   "metadata": {},
   "outputs": [],
   "source": []
  }
 ],
 "metadata": {
  "kernelspec": {
   "display_name": "Python 3.6.8 64-bit ('py36': virtualenv)",
   "language": "python",
   "name": "python3"
  },
  "language_info": {
   "codemirror_mode": {
    "name": "ipython",
    "version": 3
   },
   "file_extension": ".py",
   "mimetype": "text/x-python",
   "name": "python",
   "nbconvert_exporter": "python",
   "pygments_lexer": "ipython3",
   "version": "3.6.8"
  },
  "vscode": {
   "interpreter": {
    "hash": "c5d68aa7e999b61a3b40b66632f8530ed396737b764b3844e5f2bd4eeaab7958"
   }
  }
 },
 "nbformat": 4,
 "nbformat_minor": 2
}
