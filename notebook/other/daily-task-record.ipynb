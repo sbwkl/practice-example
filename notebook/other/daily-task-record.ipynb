{
 "cells": [
  {
   "cell_type": "code",
   "execution_count": null,
   "metadata": {},
   "outputs": [],
   "source": [
    "import pandas as pd\n",
    "import numpy as np"
   ]
  },
  {
   "cell_type": "code",
   "execution_count": null,
   "metadata": {},
   "outputs": [],
   "source": [
    "df = pd.read_csv('~/Downloads/daily-task-record.csv')\n",
    "\n",
    "half_year = df.loc[df['时间'] < '2022-07-01']\n",
    "quarter_2nd = half_year.loc[half_year['时间'] >= '2022-04-01']\n",
    "\n",
    "\n",
    "half_year = half_year.sort_values(by = ['时间'], key = lambda col: col.str.lower())\n",
    "half_year.reset_index(inplace=True, drop=True)\n",
    "\n",
    "quarter_2nd = quarter_2nd.sort_values(by = ['时间'], key = lambda col: col.str.lower())\n",
    "quarter_2nd.reset_index(inplace=True, drop=True)\n",
    "\n",
    "total_day = half_year['时间'].count()\n",
    "total_drink = half_year['喝水'].sum()\n",
    "total_sport= half_year['10 个波比跳'].sum()\n",
    "total_blog = half_year['看一篇文章'].sum()\n",
    "\n",
    "total_2nd = quarter_2nd['时间'].count()\n",
    "total_read = quarter_2nd['看一页书'].sum()\n",
    "total_write = quarter_2nd['写一句话'].sum()\n",
    "\n",
    "print('drink: %.2f%%' % round(total_drink / (total_day * 5) * 100, 2))\n",
    "print('sport: %.2f%%' % round(total_sport / total_day * 100, 2))\n",
    "print('blog : %.2f%%' % round(total_blog / total_day * 100, 2))\n",
    "\n",
    "print('read : %.2f%%' % round(total_read / total_2nd * 100, 2))\n",
    "print('write: %.2f%%' % round(total_write / total_2nd * 100, 2))"
   ]
  },
  {
   "cell_type": "code",
   "execution_count": null,
   "metadata": {},
   "outputs": [],
   "source": [
    "half_year['date'] = pd.to_datetime(half_year['时间'])\n",
    "half_year['weekday'] = half_year.apply(lambda x: x['date'].weekday(), axis=1)\n",
    "\n",
    "half_year = half_year.fillna(-1)\n",
    "no_drink = half_year.loc[half_year['喝水'] < 0]\n",
    "no_drink = no_drink[['date', 'weekday', '喝水']]\n",
    "ndg = no_drink.groupby(['weekday']).count()\n",
    "\n",
    "ndg\n"
   ]
  }
 ],
 "metadata": {
  "kernelspec": {
   "display_name": "Python 3.6.8 64-bit ('py36': virtualenv)",
   "language": "python",
   "name": "python3"
  },
  "language_info": {
   "codemirror_mode": {
    "name": "ipython",
    "version": 3
   },
   "file_extension": ".py",
   "mimetype": "text/x-python",
   "name": "python",
   "nbconvert_exporter": "python",
   "pygments_lexer": "ipython3",
   "version": "3.6.8"
  },
  "orig_nbformat": 4,
  "vscode": {
   "interpreter": {
    "hash": "c5d68aa7e999b61a3b40b66632f8530ed396737b764b3844e5f2bd4eeaab7958"
   }
  }
 },
 "nbformat": 4,
 "nbformat_minor": 2
}
