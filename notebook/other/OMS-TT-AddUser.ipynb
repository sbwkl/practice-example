{
 "cells": [
  {
   "cell_type": "code",
   "execution_count": null,
   "metadata": {},
   "outputs": [],
   "source": [
    "import requests"
   ]
  },
  {
   "cell_type": "code",
   "execution_count": null,
   "metadata": {},
   "outputs": [],
   "source": [
    "class BizError(Exception):\n",
    "    pass"
   ]
  },
  {
   "cell_type": "code",
   "execution_count": null,
   "metadata": {},
   "outputs": [],
   "source": [
    "###############################################################\n",
    "#               添加 OMS 用户脚本使用方法\n",
    "#     1. 填写用户信息 account (一般为邮箱前缀) 和 accountName\n",
    "#     2. 填写与哪个用户权限相同 refAccount (一般为邮箱前缀)\n",
    "#     3. 填写 ssoid 这个需要你先登录到 OMS dashboard \n",
    "#        然后从 cookie 里面扣除来 key = OMSSESSIONID 的字段\n",
    "#     4. 选择菜单 Cell ==> Run All 执行脚本\n",
    "#    \n",
    "#     example :\n",
    "#     account = 'test.beibei1' \n",
    "#     accountName = '测试用户' \n",
    "#     refAccount = 'wayne.wang111111' \n",
    "#     ssoid = 'd6cc0089-60b3-4a09-b0df-3dd01f316f08';\n",
    "#\n",
    "#     无视这条 host = 'http://oms-dev.int.husor.com:7777' \n",
    "###############################################################\n",
    "account = 'yufang.chen' \n",
    "accountName = '陈玉芳' \n",
    "refAccount = 'wenqi.zhang' \n",
    "\n",
    "ssoid = 'd7ea999a-02fd-4b9e-89da-458b41a74356';\n",
    "\n",
    "host = 'http://oms.beibei.com.cn'\n",
    "\n",
    "#################### 以下代码都是业务逻辑，一般情况下不需要修改 ########################\n",
    "# 清楚数据中可能存在的空格\n",
    "ssoid = ssoid.strip()\n",
    "account = account.strip()\n",
    "accountName = accountName.strip()\n",
    "refAccount = refAccount.strip()\n",
    "\n",
    "cookies = {}\n",
    "cookies['OMSSESSIONID'] = ssoid\n",
    "# raise ValueError('sso id not valid')\n",
    "# 获取参照权限 position\n",
    "# refUser = requests.get('', cookies=cookies).json()\n",
    "param = {}\n",
    "param['username'] = account;\n",
    "res = requests.get(host + '/api/users/username', params=param, cookies=cookies)\n",
    "\n",
    "try:\n",
    "    user = res.json()\n",
    "    if (user is not None and user['success'] and user['data']):\n",
    "        raise BizError(account + ' has been grant position = ' + str(user['data']['positionId']))\n",
    "except ValueError as ve:\n",
    "    print('sso id not valid')\n",
    "    raise ve\n",
    "except BizError as be:\n",
    "    print(be)\n",
    "    raise be\n",
    "except Exception as e:\n",
    "    raise e\n",
    "\n",
    "\n",
    "param['username'] = refAccount;\n",
    "res = requests.get(host + '/api/users/username', params=param, cookies=cookies)\n",
    "try:\n",
    "    user = res.json()\n",
    "    if (user is None or not user['success'] or user['data'] is None):\n",
    "        raise BizError(refAccount + ' do not exist!')\n",
    "    position = user['data']['positionId']\n",
    "    if (position is None):\n",
    "        raise BizError(refAccount + ' do not has position')\n",
    "except BizError as be:\n",
    "    print(be)\n",
    "    raise be\n",
    "except Exception as e:\n",
    "    raise e\n",
    "\n",
    "url = host + '/api/users/addUsers?userNames=' + account + ':' + accountName + '&position=' + str(position)\n",
    "res = requests.post(url, cookies=cookies)\n",
    "print(res.text)\n",
    "if (res.json() and res.json()['success']):\n",
    "    print('OMS user {} has been add'.format(account))\n",
    "else:\n",
    "    print('OMS user add failed')"
   ]
  }
 ],
 "metadata": {
  "kernelspec": {
   "display_name": "py36",
   "language": "python",
   "name": "py36"
  },
  "language_info": {
   "codemirror_mode": {
    "name": "ipython",
    "version": 3
   },
   "file_extension": ".py",
   "mimetype": "text/x-python",
   "name": "python",
   "nbconvert_exporter": "python",
   "pygments_lexer": "ipython3",
   "version": "3.6.8"
  }
 },
 "nbformat": 4,
 "nbformat_minor": 2
}
