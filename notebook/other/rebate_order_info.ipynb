{
 "cells": [
  {
   "cell_type": "code",
   "execution_count": 38,
   "metadata": {},
   "outputs": [],
   "source": [
    "import pandas as pd\n",
    "import json\n",
    "import time"
   ]
  },
  {
   "cell_type": "code",
   "execution_count": 18,
   "metadata": {},
   "outputs": [
    {
     "name": "stdout",
     "output_type": "stream",
     "text": [
      "<class 'pandas.core.frame.DataFrame'>\n",
      "RangeIndex: 1000000 entries, 0 to 999999\n",
      "Data columns (total 2 columns):\n",
      " #   Column     Non-Null Count    Dtype \n",
      "---  ------     --------------    ----- \n",
      " 0   id         1000000 non-null  int64 \n",
      " 1   item_info  1000000 non-null  object\n",
      "dtypes: int64(1), object(1)\n",
      "memory usage: 15.3+ MB\n"
     ]
    }
   ],
   "source": [
    "simplecsv = pd.read_csv('simple.csv')\n",
    "# simplecsv.iloc[0]\n",
    "# print(simplecsv.info)\n",
    "simplecsv.info()"
   ]
  },
  {
   "cell_type": "code",
   "execution_count": 34,
   "metadata": {},
   "outputs": [
    {
     "name": "stdout",
     "output_type": "stream",
     "text": [
      "女装\n",
      "None\n"
     ]
    }
   ],
   "source": [
    "x = simplecsv['item_info'].iloc[0];\n",
    "x = x.replace(\"'\", \"\\\"\")\n",
    "categroyStr = json.loads(x).get('itemCategoryName', '')\n",
    "print(next(iter(categroyStr.split('/')), None))\n"
   ]
  },
  {
   "cell_type": "code",
   "execution_count": 39,
   "metadata": {},
   "outputs": [
    {
     "name": "stdout",
     "output_type": "stream",
     "text": [
      "cost: 20.307560682296753\n",
      "<class 'pandas.core.frame.DataFrame'>\n",
      "RangeIndex: 1000000 entries, 0 to 999999\n",
      "Data columns (total 3 columns):\n",
      " #   Column     Non-Null Count    Dtype \n",
      "---  ------     --------------    ----- \n",
      " 0   id         1000000 non-null  int64 \n",
      " 1   item_info  1000000 non-null  object\n",
      " 2   fcate      1000000 non-null  object\n",
      "dtypes: int64(1), object(2)\n",
      "memory usage: 22.9+ MB\n"
     ]
    }
   ],
   "source": [
    "start_time = time.time()\n",
    "simplecsv['fcate'] = simplecsv.apply(lambda row: next(iter(json.loads(row.item_info.replace(\"'\", \"\\\"\")).get('itemCategoryName', '').split('/')), None), axis = 1)\n",
    "print('cost: ' + str(time.time() - start_time))\n",
    "simplecsv.info()"
   ]
  },
  {
   "cell_type": "code",
   "execution_count": 37,
   "metadata": {},
   "outputs": [
    {
     "name": "stdout",
     "output_type": "stream",
     "text": [
      "        id                                          item_info fcate\n",
      "0       10  {'itemCategoryName':'女装/女士精品','itemId':'647729...    女装\n",
      "1       10  {'itemCategoryName':'女装/女士精品','itemId':'647729...    女装\n",
      "2       10  {'itemCategoryName':'女装/女士精品','itemId':'647729...    女装\n",
      "3       10  {'itemCategoryName':'女装/女士精品','itemId':'647729...    女装\n",
      "4       10  {'itemCategoryName':'女装/女士精品','itemId':'647729...    女装\n",
      "...     ..                                                ...   ...\n",
      "999995  10  {'itemCategoryName':'女装/女士精品','itemId':'647729...    女装\n",
      "999996  10  {'itemCategoryName':'女装/女士精品','itemId':'647729...    女装\n",
      "999997  10  {'itemCategoryName':'女装/女士精品','itemId':'647729...    女装\n",
      "999998  10  {'itemCategoryName':'女装/女士精品','itemId':'647729...    女装\n",
      "999999  10  {'itemCategoryName':'女装/女士精品','itemId':'647729...    女装\n",
      "\n",
      "[1000000 rows x 3 columns]\n"
     ]
    }
   ],
   "source": [
    "print(simplecsv)"
   ]
  },
  {
   "cell_type": "code",
   "execution_count": 43,
   "metadata": {},
   "outputs": [
    {
     "name": "stdout",
     "output_type": "stream",
     "text": [
      "          item_info\n",
      "id fcate           \n",
      "10 女装       1000000\n"
     ]
    }
   ],
   "source": [
    "c = simplecsv.groupby(['id', 'fcate']).count()\n",
    "print(c)"
   ]
  },
  {
   "cell_type": "code",
   "execution_count": null,
   "metadata": {},
   "outputs": [],
   "source": []
  }
 ],
 "metadata": {
  "kernelspec": {
   "display_name": "py36",
   "language": "python",
   "name": "py36"
  },
  "language_info": {
   "codemirror_mode": {
    "name": "ipython",
    "version": 3
   },
   "file_extension": ".py",
   "mimetype": "text/x-python",
   "name": "python",
   "nbconvert_exporter": "python",
   "pygments_lexer": "ipython3",
   "version": "3.6.8"
  }
 },
 "nbformat": 4,
 "nbformat_minor": 2
}
