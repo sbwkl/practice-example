{
 "cells": [
  {
   "cell_type": "code",
   "execution_count": null,
   "metadata": {},
   "outputs": [],
   "source": [
    "inf = float('inf')\n",
    "\n",
    "# 0 ~ 5 代表 a, b, c, d, e, z\n",
    "V = [0, 1, 2, 3, 4, 5]\n",
    "vm = {\n",
    "    0: 'a',\n",
    "    1: 'b',\n",
    "    2: 'c',\n",
    "    3: 'd',\n",
    "    4: 'e',\n",
    "    5: 'z'\n",
    "}\n",
    "G = [\n",
    "    [0  ,4  ,2  ,inf, inf, inf],\n",
    "    [4  ,0  ,1  ,5  , inf, inf],\n",
    "    [2  ,1  ,0  ,8  , 10, inf],\n",
    "    [inf,5  ,8  ,0  , 2,  6],\n",
    "    [inf,inf,10 ,2  , 0,  3],\n",
    "    [inf,inf,inf,6  , 3,  0]\n",
    "]\n",
    "\n",
    "\n",
    "def dijkstra(G):\n",
    "    S = {}\n",
    "    M = {\n",
    "        0: 0,\n",
    "        1: inf,\n",
    "        2: inf,\n",
    "        3: inf,\n",
    "        4: inf,\n",
    "        5: inf\n",
    "    }\n",
    "    # 5 就是顶点 z\n",
    "    while 5 not in S:\n",
    "        u = minLabel(M)\n",
    "        print('pass through: ' + vm[u])\n",
    "        S[u] = M[u]\n",
    "        del M[u]\n",
    "        for x in (set(V) - set(S)):\n",
    "            if S[u] + G[u][x] < M[x]:\n",
    "                M[x] = S[u] + G[u][x]\n",
    "    return S[5]\n",
    "\n",
    "def minLabel(mapper):\n",
    "    return min(mapper, key=mapper.get)\n",
    "\n",
    "path = dijkstra(G)\n",
    "print('lenth = ' + str(path))"
   ]
  },
  {
   "cell_type": "code",
   "execution_count": null,
   "metadata": {},
   "outputs": [],
   "source": []
  }
 ],
 "metadata": {
  "kernelspec": {
   "display_name": "Python 3.7.9 ('py37')",
   "language": "python",
   "name": "python3"
  },
  "language_info": {
   "codemirror_mode": {
    "name": "ipython",
    "version": 3
   },
   "file_extension": ".py",
   "mimetype": "text/x-python",
   "name": "python",
   "nbconvert_exporter": "python",
   "pygments_lexer": "ipython3",
   "version": "3.7.9"
  },
  "vscode": {
   "interpreter": {
    "hash": "62cd4df33508bec17bc606ac270433f111864364a989bfc7ac79dea86ca91c98"
   }
  }
 },
 "nbformat": 4,
 "nbformat_minor": 2
}
