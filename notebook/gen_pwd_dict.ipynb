{
 "cells": [
  {
   "cell_type": "code",
   "execution_count": null,
   "metadata": {},
   "outputs": [],
   "source": [
    "import requests\n",
    "import string\n",
    "import base64\n",
    "import time\n",
    "import random\n",
    "\n",
    "print(round(time.time() * 1000))\n",
    "\n",
    "baiduid = '2DFAD1289211FD5639E31C1754ACAECD:FG=1'\n",
    "print(baiduid.encode('utf-8'))\n",
    "decode = base64.b64encode(baiduid.encode('utf-8'))\n",
    "print(decode)\n",
    "print(decode.decode(\"utf-8\"))\n",
    "\n",
    "max_try_times = float('inf')\n",
    "x = 4353454354\n",
    "print(x > max_try_times)\n",
    "print(type(time.strftime(\"%Y-%m-%d %H:%M:%S\", time.gmtime())))"
   ]
  },
  {
   "cell_type": "code",
   "execution_count": null,
   "metadata": {},
   "outputs": [],
   "source": [
    "ca_text = []\n",
    "\n",
    "for a in range(0, 10):\n",
    "    ca_text.append(a)\n",
    "for a in string.ascii_lowercase[:26]:\n",
    "    ca_text.append(a)"
   ]
  },
  {
   "cell_type": "code",
   "execution_count": null,
   "metadata": {},
   "outputs": [],
   "source": [
    "def gen_dict():\n",
    "    a = 0\n",
    "    b = 0\n",
    "    c = 0\n",
    "    d = 0;\n",
    "    dict_file = open('pwd_dict.txt', 'w')\n",
    "    for a in range(0, 36):\n",
    "        for b in range(0, 36):\n",
    "            for c in range(0, 36):\n",
    "                dict_str = ''\n",
    "                for d in range(0, 36):\n",
    "                    ca_pwd = str(ca_text[a]) + str(ca_text[b]) + str(ca_text[c]) + str(ca_text[d])\n",
    "                    dict_str = dict_str + ca_pwd + ','\n",
    "                dict_file.write(dict_str)\n",
    "                dict_file.flush()\n",
    "    dict_file.close()"
   ]
  },
  {
   "cell_type": "code",
   "execution_count": null,
   "metadata": {},
   "outputs": [],
   "source": [
    "gen_dict()"
   ]
  },
  {
   "cell_type": "code",
   "execution_count": null,
   "metadata": {},
   "outputs": [],
   "source": []
  }
 ],
 "metadata": {
  "kernelspec": {
   "display_name": "Python 3",
   "language": "python",
   "name": "python3"
  },
  "language_info": {
   "codemirror_mode": {
    "name": "ipython",
    "version": 3
   },
   "file_extension": ".py",
   "mimetype": "text/x-python",
   "name": "python",
   "nbconvert_exporter": "python",
   "pygments_lexer": "ipython3",
   "version": "3.6.8"
  }
 },
 "nbformat": 4,
 "nbformat_minor": 2
}
