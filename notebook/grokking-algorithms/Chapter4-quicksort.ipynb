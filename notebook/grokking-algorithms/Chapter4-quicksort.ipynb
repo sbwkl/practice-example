{
 "cells": [
  {
   "cell_type": "code",
   "execution_count": 43,
   "metadata": {},
   "outputs": [
    {
     "name": "stdout",
     "output_type": "stream",
     "text": [
      "recursion sum : 45\n",
      "for loop sum : 45\n",
      "nums count is 10\n",
      "[0, 1, 2, 3, 4, 5, 6, 7, 8, 9]\n",
      "binary search 3 index = 3\n",
      "binary search 9 index = 9\n",
      "binary search 11 index = None\n"
     ]
    }
   ],
   "source": [
    "nums = [1,8,5,7,3,9,0,6,2,4]\n",
    "wait_sort_nums = nums.copy()\n",
    "def sum(nums):\n",
    "    if (nums is None or len(nums) == 0):\n",
    "        return 0\n",
    "    elif (len(nums) == 1):\n",
    "        return nums[0]\n",
    "    else:\n",
    "        return nums[0] + sum(nums[1:])\n",
    "\n",
    "print('recursion sum : '+ str(sum(nums)))\n",
    "\n",
    "def loopsum(nums):\n",
    "    if (nums is None):\n",
    "        return 0\n",
    "    all = 0\n",
    "    for item in nums:\n",
    "        all += item\n",
    "        \n",
    "    return all\n",
    "\n",
    "print('for loop sum : ' + str(loopsum(nums)))\n",
    "\n",
    "def count(nums):\n",
    "    if (nums is None or not nums):\n",
    "        return 0\n",
    "    else:\n",
    "        return 1 + count(nums[1:])\n",
    "    \n",
    "print('nums count is ' + str(count(nums)))\n",
    "\n",
    "nums.sort()\n",
    "\n",
    "def binary_search(el, nums, start, end):\n",
    "    if start > end:\n",
    "        return None\n",
    "    mid = (start + end) // 2\n",
    "    if (nums[mid] > el):\n",
    "        return binary_search(el, nums, start, (mid - 1))\n",
    "    elif (nums[mid] == el):\n",
    "        return mid\n",
    "    else:\n",
    "        mid += 1\n",
    "        return binary_search(el, nums, (mid + 1), end)\n",
    "    \n",
    "def printEL(el):\n",
    "    print('binary search ' + str(el) + ' index = ' + str(binary_search(el, nums, 0, len(nums) - 1)))\n",
    "print(nums)\n",
    "printEL(3)\n",
    "printEL(9)\n",
    "printEL(11)"
   ]
  },
  {
   "cell_type": "code",
   "execution_count": 47,
   "metadata": {},
   "outputs": [
    {
     "name": "stdout",
     "output_type": "stream",
     "text": [
      "[1, 8, 5, 7, 3, 9, 0, 6, 2, 4]\n",
      "[0, 1, 2, 3, 4, 5, 6, 7, 8, 9]\n"
     ]
    }
   ],
   "source": [
    "print(wait_sort_nums)\n",
    "def quick_sort(nums):\n",
    "    if (len(nums) < 2):\n",
    "        return nums\n",
    "    pivot = nums[0]\n",
    "    less = [a for a in nums[1:] if a <= pivot]\n",
    "    gather = [a for a in nums[1:] if a > pivot]\n",
    "    return quick_sort(less) + [pivot] + quick_sort(gather)\n",
    "\n",
    "print(quick_sort(wait_sort_nums))"
   ]
  },
  {
   "cell_type": "code",
   "execution_count": 16,
   "metadata": {},
   "outputs": [
    {
     "name": "stdout",
     "output_type": "stream",
     "text": [
      "0\n",
      "1\n",
      "2\n",
      "4\n",
      "5\n",
      "6\n",
      "7\n",
      "8\n",
      "[1, 1, 1, 0, 1, 1, 1, 1, 1]\n"
     ]
    }
   ],
   "source": [
    "nums = [4,7,2,5,1,0,8,6]\n",
    "sortnums = [0] * (max(nums) + 1)\n",
    "for i in nums:\n",
    "    sortnums[i] = 1\n",
    "\n",
    "for i in range(0, max(nums) + 1):\n",
    "    if(sortnums[i] == 1):\n",
    "        print(i)\n",
    "print(sortnums)"
   ]
  }
 ],
 "metadata": {
  "kernelspec": {
   "display_name": "venv",
   "language": "python",
   "name": "venv"
  },
  "language_info": {
   "codemirror_mode": {
    "name": "ipython",
    "version": 3
   },
   "file_extension": ".py",
   "mimetype": "text/x-python",
   "name": "python",
   "nbconvert_exporter": "python",
   "pygments_lexer": "ipython3",
   "version": "3.6.8"
  }
 },
 "nbformat": 4,
 "nbformat_minor": 2
}
