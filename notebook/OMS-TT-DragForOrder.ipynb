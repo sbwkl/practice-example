{
 "cells": [
  {
   "cell_type": "code",
   "execution_count": 1,
   "metadata": {},
   "outputs": [],
   "source": [
    "import requests\n",
    "from datetime import datetime"
   ]
  },
  {
   "cell_type": "code",
   "execution_count": 2,
   "metadata": {},
   "outputs": [],
   "source": [
    "####################################################\n",
    "#      捞单专用脚本\n",
    "#    1. 填写 currentJob 值，目前只有 2 个值可选\n",
    "#        DragForOrderPreSell 预售捞单\n",
    "#        DragForOrder        非预售捞单\n",
    "#    2. startStr 捞单开始时间，会自动向前扩大一天\n",
    "#    3. endStr  捞单结束时间，会自动向后扩大一天\n",
    "#    运行 Cell ==> Run All\n",
    "#\n",
    "#    脚本本质上对应的 Simba 的 2 个 job\n",
    "#    预售   Simba job = RetrySplitOrderJob-presellorder-4hretry\n",
    "#    非预售 Simba job = RetrySplitOrderJob-manual\n",
    "#\n",
    "####################################################\n",
    "\n",
    "\n",
    "currentJob = 'DragForOrderPreSell'\n",
    "\n",
    "startStr = '2019-06-02'\n",
    "endStr   = '2019-06-12'\n",
    "\n",
    "ssoid = '6543FDCA24B3558D6AB7447EEE922CE555E08A8936F70A5F54C7DF1EBBA87C6A'"
   ]
  },
  {
   "cell_type": "code",
   "execution_count": 3,
   "metadata": {},
   "outputs": [],
   "source": [
    "now = datetime.now()\n",
    "start = datetime.strptime(startStr, '%Y-%m-%d')\n",
    "end = datetime.strptime(endStr, '%Y-%m-%d')\n",
    "\n",
    "s = (end - start).days * 24\n",
    "e = (now - end).days * 24\n",
    "e = e - 24 ## 结束时间向后扩一天\n",
    "if e < 1:\n",
    "    e = 1\n",
    "\n",
    "s = s + 24  ## 开始时间向前扩一天\n",
    "\n",
    "jobs = {\n",
    "    'DragForOrderPreSell':{\n",
    "        'menu_id': 32116,\n",
    "        'commandLine':'java -jar /data/oms_workflow/oms-workflow.jar -j RetryComposeOrderJob -r {} -e {} -m false -b preSale -d prod',\n",
    "        'releaseDesc':'捞单',\n",
    "        'nodeId': 29502,\n",
    "        'bizEndDate': '2018-06-11'\n",
    "    },\n",
    "    'DragForOrder':{\n",
    "        'menu_id': 32114,\n",
    "        'commandLine': 'java -jar /data/oms_workflow/oms-workflow.jar -j RetryComposeOrderJob -r {} -e {} -m false -d prod',\n",
    "        'releaseDesc':'捞单',\n",
    "        'nodeId': 29425,\n",
    "        'bizEndDate': '2018-06-11'\n",
    "    },\n",
    "    'shippingRetry':{\n",
    "        'menu_id': 34612,\n",
    "        'commandLine': 'java -jar /data/oms_workflow/oms-workflow.jar -j AbnormalStatusOrderHandleJob -s {} -e {} -d prod',\n",
    "    },\n",
    "    'testJob':{\n",
    "        'menu_id': 29260,\n",
    "        'commandLine':'/data/sop/bin/java -Ddomain-prod -jar /data/supplier/apps/workflow/supplier-workflow.jar -j TestJob -d prod -s {}',\n",
    "        'releaseDesc':'测试',\n",
    "        'nodeId': 29524,\n",
    "        'bizEndDate': '2018-06-11'\n",
    "    }\n",
    "}\n",
    "\n",
    "## 替换 command line 参数\n",
    "commandLine = jobs[currentJob]['commandLine'].format(s, e)\n",
    "jobs[currentJob]['commandLine'] = commandLine\n",
    "\n",
    "if not (jobs[currentJob]['menu_id'] \n",
    "    and jobs[currentJob]['commandLine']\n",
    "    and jobs[currentJob]['releaseDesc']\n",
    "    and jobs[currentJob]['nodeId']\n",
    "    and jobs[currentJob]['bizEndDate']) or '{}' in jobs[currentJob]['commandLine']:\n",
    "    raise ValueError('参数配置缺失')\n",
    "    \n",
    "cookies = {}\n",
    "cookies['sessionId'] = ssoid"
   ]
  },
  {
   "cell_type": "code",
   "execution_count": 4,
   "metadata": {},
   "outputs": [
    {
     "name": "stdout",
     "output_type": "stream",
     "text": [
      "commandLine is False\n"
     ]
    }
   ],
   "source": [
    "### 获取 job 对比下数据\n",
    "\n",
    "url = 'http://uwp.bigdata.beibei.com.cn/selfSelect/findFile?menu_id={}&type=1'.format(jobs[currentJob]['menu_id'])\n",
    "res = requests.post(url, cookies=cookies)\n",
    "commandLine = res.json()['map']['content']\n",
    "diff = commandLine != jobs[currentJob]['commandLine']\n",
    "print('commandLine is ' + str(diff))"
   ]
  },
  {
   "cell_type": "code",
   "execution_count": 5,
   "metadata": {},
   "outputs": [],
   "source": [
    "### 查询 job 列表\n",
    "\n",
    "url = 'http://uwp.bigdata.beibei.com.cn/selfSelect/queryMenuBySearchNew'\n",
    "params = {\n",
    "    'project_id':21,\n",
    "    'menu_name':'AbnormalStatusOrderHandleJob'\n",
    "}\n",
    "\n",
    "# res = requests.post(url, data=params, cookies=cookies)\n",
    "# print(res.text)"
   ]
  },
  {
   "cell_type": "code",
   "execution_count": 6,
   "metadata": {},
   "outputs": [
    {
     "name": "stdout",
     "output_type": "stream",
     "text": [
      "command line euqals, skip edit job\n"
     ]
    }
   ],
   "source": [
    "### 修改 job 信息\n",
    "if diff:\n",
    "    url = 'http://uwp.bigdata.beibei.com.cn/selfSelect/editFile'\n",
    "    params = {\n",
    "        'menu_id': jobs[currentJob]['menu_id'],\n",
    "        'cluster_id': 1,\n",
    "        'content': jobs[currentJob]['commandLine']\n",
    "    }\n",
    "\n",
    "    res = requests.post(url, data=params, cookies=cookies)\n",
    "    print('execute edit job, result ' + res.json()['retMsg'])\n",
    "else:\n",
    "    print('command line euqals, skip edit job')\n",
    "        "
   ]
  },
  {
   "cell_type": "code",
   "execution_count": 7,
   "metadata": {},
   "outputs": [
    {
     "name": "stdout",
     "output_type": "stream",
     "text": [
      "command line equals, skip publish job\n"
     ]
    }
   ],
   "source": [
    "### 发布修改后的 job\n",
    "if diff:\n",
    "    url = 'http://uwp.bigdata.beibei.com.cn/selfSelect/taskPublish'\n",
    "\n",
    "    params = {\n",
    "        'username': 'wayne.wang',\n",
    "        'service': 'SelfSearch',\n",
    "        'method': 'taskPublish',\n",
    "        'menuId': jobs[currentJob]['menu_id'],\n",
    "        'releaseDesc': jobs[currentJob]['releaseDesc']\n",
    "    }\n",
    "    res = requests.post(url, data=params, cookies=cookies)\n",
    "    print('execute publish job, result ' + res.json()['retMsg'])\n",
    "else:\n",
    "    print('command line equals, skip publish job')"
   ]
  },
  {
   "cell_type": "code",
   "execution_count": 8,
   "metadata": {},
   "outputs": [
    {
     "name": "stdout",
     "output_type": "stream",
     "text": [
      "execute trail running, result 试跑任务提交成功\n"
     ]
    }
   ],
   "source": [
    "### 试跑任务\n",
    "\n",
    "url = 'http://uwp.bigdata.beibei.com.cn/taskList/trailRunning'\n",
    "\n",
    "params = {\n",
    "    'service': 'JobList',\n",
    "    'method': 'trailRunning',\n",
    "    'nodeId': jobs[currentJob]['nodeId'],\n",
    "    'bizEndDate': jobs[currentJob]['bizEndDate']\n",
    "}\n",
    "res = requests.post(url, data=params, cookies=cookies)\n",
    "print('execute trail running, result ' + res.json()['retMsg'])"
   ]
  }
 ],
 "metadata": {
  "kernelspec": {
   "display_name": "py36",
   "language": "python",
   "name": "py36"
  },
  "language_info": {
   "codemirror_mode": {
    "name": "ipython",
    "version": 3
   },
   "file_extension": ".py",
   "mimetype": "text/x-python",
   "name": "python",
   "nbconvert_exporter": "python",
   "pygments_lexer": "ipython3",
   "version": "3.6.8"
  }
 },
 "nbformat": 4,
 "nbformat_minor": 2
}
