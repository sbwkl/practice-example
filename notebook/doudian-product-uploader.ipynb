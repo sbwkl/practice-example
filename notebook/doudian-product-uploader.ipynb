{
 "cells": [
  {
   "cell_type": "code",
   "execution_count": null,
   "metadata": {},
   "outputs": [],
   "source": [
    "import requests\n",
    "import pandas as pd"
   ]
  },
  {
   "cell_type": "code",
   "execution_count": null,
   "metadata": {},
   "outputs": [],
   "source": [
    "#     param = {\n",
    "#         \"serviceId\": \"punish.list\",\n",
    "#         \"dubboParam\": {\n",
    "#             \"rid\": 1\n",
    "#         }\n",
    "#     }\n",
    "\n",
    "def invoke(serviceId, dubbo_param):\n",
    "    p = {\n",
    "        'serviceId': serviceId,\n",
    "        'dubboParam': dubbo_param\n",
    "    }\n",
    "    return generic_invoke(p)\n",
    "\n",
    "def generic_invoke(param):\n",
    "    url = 'http://api.beibei.com/japi/beidai/api?rebate.operate.generic.service'\n",
    "    headers = {\n",
    "        'User-Agent': 'Mozilla/5.0 (Windows NT 6.1; Win64; x64) AppleWebKit/537.36 (KHTML, like Gecko) Chrome/80.0.3987.122 Safari/537.36',\n",
    "        'Content-Type': 'application/json',\n",
    "        'Referer': 'http://yunying.beibei.com/n/'\n",
    "    }\n",
    "    res = requests.post(url, json=param, headers=headers)\n",
    "    return res\n",
    "\n",
    "def doudian_product_uploader(pid):\n",
    "    dp = {\n",
    "        \"source\": \"ALI1688\",\n",
    "        \"fromProductId\": pid\n",
    "    }\n",
    "    res = invoke('starchain.product.sharingan', dp);\n",
    "    return res.json()"
   ]
  },
  {
   "cell_type": "code",
   "execution_count": null,
   "metadata": {},
   "outputs": [],
   "source": [
    "group_17717 = pd.read_csv('group-17717.csv');\n",
    "for pid in group_17717['pid']:\n",
    "    ret = doudian_product_uploader(str(pid))\n",
    "    success = ret.get('code', -1) == 200\n",
    "    msg = ret.get('message', '')\n",
    "    if success == None:\n",
    "        success = False\n",
    "    if msg == None:\n",
    "        msg = ' '\n",
    "    print(str(pid) + ',' + str(success) + ',' + msg)"
   ]
  },
  {
   "cell_type": "code",
   "execution_count": null,
   "metadata": {},
   "outputs": [],
   "source": []
  }
 ],
 "metadata": {
  "kernelspec": {
   "display_name": "py36",
   "language": "python",
   "name": "py36"
  },
  "language_info": {
   "codemirror_mode": {
    "name": "ipython",
    "version": 3
   },
   "file_extension": ".py",
   "mimetype": "text/x-python",
   "name": "python",
   "nbconvert_exporter": "python",
   "pygments_lexer": "ipython3",
   "version": "3.6.8"
  }
 },
 "nbformat": 4,
 "nbformat_minor": 2
}
