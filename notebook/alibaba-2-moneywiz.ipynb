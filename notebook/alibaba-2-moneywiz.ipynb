{
 "cells": [
  {
   "cell_type": "code",
   "execution_count": 29,
   "metadata": {},
   "outputs": [],
   "source": [
    "import pandas as pd\n",
    "import numpy as np\n",
    "import csv\n",
    "pd.options.mode.chained_assignment = None  # default='warn'"
   ]
  },
  {
   "cell_type": "code",
   "execution_count": 42,
   "metadata": {},
   "outputs": [],
   "source": [
    "account_mapper = {\n",
    "    '中国银行信用卡(7211)': '中行7211',\n",
    "    '招商银行信用卡(0565)': '招行0565',\n",
    "}\n",
    "category_mapper = {\n",
    "    '餐饮美食' : '餐饮&外出就餐 > 餐饮/外出就餐',\n",
    "    '充值缴费' : '账单 > 燃气',\n",
    "    '服饰装扮' : '衣服 > 服装',\n",
    "    '公共服务' : '其他',\n",
    "    '家居家装' : '房屋 > 家具/装饰品',\n",
    "    '其他' : '其他',\n",
    "    '日用百货' : '其他',\n",
    "    '数码电器' : '数码 > 其他',\n",
    "    '医疗健康' : '卫生保健 > 医疗'\n",
    "}"
   ]
  },
  {
   "cell_type": "code",
   "execution_count": null,
   "metadata": {},
   "outputs": [],
   "source": [
    "record_list = []\n",
    "with open('bill_data_original.csv', encoding='utf-8') as csvfile:\n",
    "    reader = csv.reader(csvfile)\n",
    "    for row in reader:\n",
    "        if len(row) > 2:\n",
    "            row = [x.strip() for x in row]\n",
    "            record_list.append(row)\n",
    "\n",
    "file_path = 'bill_data.csv'\n",
    "with open(file_path,'w', encoding='utf-8', newline='') as csvfile:\n",
    "        writer = csv.writer(csvfile)\n",
    "        writer.writerows(record_list)"
   ]
  },
  {
   "cell_type": "code",
   "execution_count": 50,
   "metadata": {},
   "outputs": [],
   "source": [
    "bill = pd.read_csv(file_path, encoding='utf-8')\n",
    "bill = bill.drop(columns=['Unnamed: 11'])\n",
    "bill = bill.fillna('')\n",
    "\n",
    "bill = bill[~bill['交易状态'].str.contains('失败')]\n",
    "bill = bill[~bill['交易状态'].str.contains('交易关闭')]\n",
    "bill = bill[~bill['商品说明'].str.contains('^余额宝-.*-收益发放')]\n",
    "bill = bill[bill['金额'] > 0]\n",
    "\n",
    "bill['Currency'] = 'CNY'\n",
    "bill['Payee'] = bill['交易对方']\n",
    "bill = bill.drop(columns=['交易对方'])\n",
    "bill['Date'] = bill['交易时间'].str.split(' ', expand=True)[0]\n",
    "bill = bill.drop(columns=['交易时间'])\n",
    "bill = bill.drop(columns=['交易订单号'])\n",
    "bill = bill.drop(columns=['商家订单号'])\n",
    "bill['Description'] = bill['商品说明']\n",
    "bill = bill.drop(columns=['商品说明'])\n",
    "\n",
    "expense_bill = bill[bill['收/支'] == '支出']\n",
    "income_bill = bill[bill['收/支'] == '收入']\n",
    "other_bill = bill[bill['收/支'] == '其他']\n",
    "\n"
   ]
  },
  {
   "cell_type": "code",
   "execution_count": null,
   "metadata": {},
   "outputs": [],
   "source": [
    "expense_bill['Amount'] = expense_bill.apply(lambda row: -1 * row['金额'], axis=1)\n",
    "expense_bill['Account'] = expense_bill.apply(lambda row: account_mapper.get(row['收/付款方式'], ''), axis=1)\n",
    "expense_bill['Transfers'] = ''\n",
    "expense_bill['Category'] = expense_bill.apply(lambda row: category_mapper.get(row['交易分类'], '其他'), axis=1)\n",
    "\n",
    "expense_bill = expense_bill.drop(columns=['收/支', '对方账号', '收/付款方式', '金额', '交易分类', '交易状态'])\n",
    "expense_bill.to_csv('expense_bill.csv', index=False)"
   ]
  },
  {
   "cell_type": "code",
   "execution_count": 51,
   "metadata": {},
   "outputs": [],
   "source": [
    "other_bill = other_bill[other_bill['Description'].str.contains('^退款')]\n",
    "\n",
    "other_bill['Amount'] = other_bill['金额']\n",
    "other_bill['Account'] = other_bill.apply(lambda row: account_mapper.get(row['收/付款方式'], ''), axis=1)\n",
    "other_bill['Transfers'] = ''\n",
    "other_bill['Category'] = '其他'\n",
    "\n",
    "other_bill = other_bill.drop(columns=['收/支', '对方账号', '收/付款方式', '金额', '交易分类', '交易状态'])\n",
    "\n",
    "other_bill.to_csv('other_bill.csv', index=False)"
   ]
  }
 ],
 "metadata": {
  "interpreter": {
   "hash": "80cd4fbfd8387029a92e47cb531df293bcff24935184fba8b97daf36421cd8c5"
  },
  "kernelspec": {
   "display_name": "py36",
   "language": "python",
   "name": "python3"
  },
  "language_info": {
   "codemirror_mode": {
    "name": "ipython",
    "version": 3
   },
   "file_extension": ".py",
   "mimetype": "text/x-python",
   "name": "python",
   "nbconvert_exporter": "python",
   "pygments_lexer": "ipython3",
   "version": "3.6.8"
  }
 },
 "nbformat": 4,
 "nbformat_minor": 2
}
