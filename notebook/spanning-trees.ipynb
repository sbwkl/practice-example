{
 "cells": [
  {
   "cell_type": "code",
   "execution_count": null,
   "metadata": {},
   "outputs": [],
   "source": [
    "a,b,c,d,e,f,g,h,i,j,k,l,m = \"a\",\"b\",\"c\",\"d\",\"e\",\"f\",\"g\",\"h\",\"i\",\"j\",\"k\",\"l\",\"m\"\n",
    "\n",
    "G1 = {\n",
    "    a: [c],\n",
    "    b: [c],\n",
    "    c: [a, b, e],\n",
    "    d: [e, f],\n",
    "    e: [c, d, f],\n",
    "    f: [d, e, g, h],\n",
    "    g: [f, h],\n",
    "    h: [f, g, i, k],\n",
    "    i: [h],\n",
    "    j: [k],\n",
    "    k: [h, j],\n",
    "}\n",
    "\n",
    "G2 = {\n",
    "    a: [b, d],\n",
    "    b: [a, c, e],\n",
    "    c: [b, f],\n",
    "    d: [a, e, h],\n",
    "    e: [b, d, f, i],\n",
    "    f: [c, e, g, j],\n",
    "    g: [f, j, l],\n",
    "    h: [d, i, k],\n",
    "    i: [e, h, j, k],\n",
    "    j: [f, g, i],\n",
    "    k: [h, i, m],\n",
    "    l: [g],\n",
    "    m: [k]\n",
    "}"
   ]
  },
  {
   "cell_type": "code",
   "execution_count": null,
   "metadata": {},
   "outputs": [],
   "source": [
    "visited = []\n",
    "inT1 = []\n",
    "T1 = {}\n",
    "def dfs(graph):\n",
    "    # set f as root\n",
    "    r = f\n",
    "    T1[r] = []\n",
    "    visit(r, graph)\n",
    "\n",
    "def visit(v, graph):\n",
    "    inT1.append(v)\n",
    "    visited.append(v)\n",
    "    for c in graph.get(v, []):\n",
    "        if c not in inT1 and c not in visited:\n",
    "            # add c and {v, c} to the T1\n",
    "            T1[c] = []\n",
    "            T1.get(v, []).append(c)\n",
    "            visit(c, graph)\n",
    "dfs(G1)\n",
    "print(T1)"
   ]
  },
  {
   "cell_type": "code",
   "execution_count": null,
   "metadata": {},
   "outputs": [],
   "source": [
    "inT2 = []\n",
    "T2 = {}\n",
    "unprocess_list = []\n",
    "def bfs(graph):\n",
    "    r = e\n",
    "    T2[r] = []\n",
    "    unprocess_list.append(r)\n",
    "    while unprocess_list:\n",
    "        v = unprocess_list[0]\n",
    "        unprocess_list.remove(v)\n",
    "        inT2.append(v)\n",
    "        for w in G2.get(v, []):\n",
    "            if w not in unprocess_list and w not in inT2:\n",
    "                unprocess_list.append(w)\n",
    "                # add w and {v, w} to the T2\n",
    "                T2.get(v, []).append(w)\n",
    "                T2[w] = []\n",
    "                inT2.append(w)"
   ]
  },
  {
   "cell_type": "code",
   "execution_count": null,
   "metadata": {},
   "outputs": [],
   "source": [
    "bfs(G2)\n",
    "print(T2)"
   ]
  }
 ],
 "metadata": {
  "kernelspec": {
   "display_name": "py36",
   "language": "python",
   "name": "py36"
  },
  "language_info": {
   "codemirror_mode": {
    "name": "ipython",
    "version": 3
   },
   "file_extension": ".py",
   "mimetype": "text/x-python",
   "name": "python",
   "nbconvert_exporter": "python",
   "pygments_lexer": "ipython3",
   "version": "3.6.8"
  }
 },
 "nbformat": 4,
 "nbformat_minor": 2
}
