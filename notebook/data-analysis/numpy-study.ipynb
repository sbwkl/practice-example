{
 "cells": [
  {
   "cell_type": "code",
   "execution_count": 2,
   "metadata": {},
   "outputs": [],
   "source": [
    "import numpy as np"
   ]
  },
  {
   "cell_type": "code",
   "execution_count": null,
   "metadata": {},
   "outputs": [],
   "source": [
    "a = np.array([1,2,3])\n",
    "b = np.array([[1,2,3],[4,5,6],[7,8,9]])\n",
    "b[1,1] = 10\n",
    "print(a.shape)\n",
    "print(b.shape)\n",
    "print(b)"
   ]
  },
  {
   "cell_type": "code",
   "execution_count": null,
   "metadata": {},
   "outputs": [],
   "source": [
    "persontype = np.dtype({\n",
    "    'names':['name','age','chinese','math','english'],\n",
    "    'formats':['S32','i','i','i','f']\n",
    "})\n",
    "peoples = np.array([\n",
    "    ('ZhangFen',32,75,100,90),\n",
    "    ('GuanYu',24,85,96,88.5),\n",
    "    ('ZhaoYun',28,85,92,96.5),\n",
    "    ('HuangZhong',29,65,85,100)\n",
    "], dtype = persontype)\n",
    "ages = peoples[:]['age']\n",
    "chineses = peoples[:]['chinese']\n",
    "maths = peoples[:]['math']\n",
    "englishs = peoples[:]['english']\n",
    "\n",
    "print(np.mean(ages))\n",
    "print(np.mean(chineses))\n",
    "print(np.mean(maths))\n",
    "print(np.mean(englishs))\n",
    "\n",
    "print(ages)"
   ]
  },
  {
   "cell_type": "code",
   "execution_count": null,
   "metadata": {},
   "outputs": [],
   "source": [
    "x1 = np.arange(1,11,2)\n",
    "x2 = np.linspace(1,9,5)\n",
    "x3 = np.array([2,2,2,2,2])\n",
    "\n",
    "print(x1, x2)\n",
    "print(np.add(x1, x2), x1 + x2)\n",
    "print(np.subtract(x1, x2), x1 - x2)\n",
    "print(np.multiply(x1, x2), x1 * x2)\n",
    "print(np.divide(x1, x2), x1 / x2)\n",
    "print(np.power(x1, x2))\n",
    "print(np.power(x1, x3))\n",
    "print(np.remainder(x1, x2), np.mod(x1, x2))"
   ]
  },
  {
   "cell_type": "code",
   "execution_count": null,
   "metadata": {},
   "outputs": [],
   "source": [
    "a = np.array([[1,2,3],[4,5,6],[7,8,9]])\n",
    "print(a.shape)\n",
    "print(np.ndim(a))\n",
    "print(a)\n",
    "print(np.amin(a))\n",
    "print(np.amin(a,0))\n",
    "print(np.amin(a,1))\n",
    "print(np.ptp(a))\n",
    "print(np.ptp(a,0))\n",
    "print(np.ptp(a,1))"
   ]
  },
  {
   "cell_type": "code",
   "execution_count": null,
   "metadata": {},
   "outputs": [],
   "source": [
    "three = np.array([\n",
    "    [\n",
    "        [1,2],[3,4]\n",
    "    ],\n",
    "    [\n",
    "        [5,6],[7,8]\n",
    "    ]\n",
    "])\n",
    "print(three.shape)\n",
    "print(np.ndim(three))\n",
    "print(np.amin(three))\n",
    "print('')\n",
    "print(np.amin(three,0))\n",
    "print('')\n",
    "print(np.amin(three,1))\n",
    "print('')\n",
    "print(np.amin(three,2))\n",
    "print(np.amin(three,2).shape)\n",
    "print('====')\n",
    "print(three)"
   ]
  },
  {
   "cell_type": "code",
   "execution_count": null,
   "metadata": {},
   "outputs": [],
   "source": [
    "aa = np.array([[4,3,2], [2,4,1]])\n",
    "print(np.sort(aa, axis = 1))"
   ]
  },
  {
   "cell_type": "code",
   "execution_count": null,
   "metadata": {},
   "outputs": [],
   "source": [
    "a = np.array([\n",
    "    [1,0],\n",
    "    [0,1]\n",
    "])\n",
    "b = np.array([\n",
    "    [4],\n",
    "    [2]\n",
    "])\n",
    "\n",
    "print(a.shape, b.shape)\n",
    "np.matmul(a, b)"
   ]
  }
 ],
 "metadata": {
  "interpreter": {
   "hash": "80cd4fbfd8387029a92e47cb531df293bcff24935184fba8b97daf36421cd8c5"
  },
  "kernelspec": {
   "display_name": "venv",
   "language": "python",
   "name": "python3"
  },
  "language_info": {
   "codemirror_mode": {
    "name": "ipython",
    "version": 3
   },
   "file_extension": ".py",
   "mimetype": "text/x-python",
   "name": "python",
   "nbconvert_exporter": "python",
   "pygments_lexer": "ipython3",
   "version": "3.6.8"
  }
 },
 "nbformat": 4,
 "nbformat_minor": 2
}
