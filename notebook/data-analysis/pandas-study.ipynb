{
 "cells": [
  {
   "cell_type": "code",
   "execution_count": null,
   "metadata": {},
   "outputs": [],
   "source": [
    "import numpy as np\n",
    "import pandas as pd\n",
    "from pandas import Series, DataFrame\n",
    "import pandasql as pql"
   ]
  },
  {
   "cell_type": "code",
   "execution_count": null,
   "metadata": {},
   "outputs": [],
   "source": [
    "ac = pd.read_csv('aquaman-comments.csv')\n",
    "ac.rename(columns = {'字段1':'code','字段2_文本':'useful', '时间':'date','字段5':'comment','字段3_文本':'name','字段5':'comment'}, inplace=True)\n",
    "ac.drop(columns = ['字段2_链接','字段3_链接','字段4','时间1'],inplace=True)\n",
    "ac.drop_duplicates()\n",
    "pql.sqldf('select name, count(1) from ac group by name having count(1) > 1',globals())"
   ]
  },
  {
   "cell_type": "code",
   "execution_count": null,
   "metadata": {},
   "outputs": [],
   "source": [
    "x1 = pd.Series([1,2,3,4])\n",
    "x2 = pd.Series(data = [1,2,3,4], index=['a','b','c','d'])\n",
    "print(x1)\n",
    "print(x2)"
   ]
  },
  {
   "cell_type": "code",
   "execution_count": null,
   "metadata": {},
   "outputs": [],
   "source": [
    "data = {'Chinese':[66,95,93,90,80],'English':[65,85,92,88,90],'Math':[30,98,96,77,90]}\n",
    "df1 = DataFrame(data)\n",
    "df2 = DataFrame(data, index=['ZhangFei','GuanYu','ZhaoYun','HuangZhong','DianWei'], columns = ['English','Chinese','Math'])\n",
    "print(df1)\n",
    "print(df2)"
   ]
  },
  {
   "cell_type": "code",
   "execution_count": null,
   "metadata": {},
   "outputs": [],
   "source": [
    "df1.to_csv('data1.csv')\n",
    "df2.to_csv('data-df2.csv')"
   ]
  },
  {
   "cell_type": "code",
   "execution_count": null,
   "metadata": {},
   "outputs": [],
   "source": [
    "# df2.drop(columns=['Chinese'])\n",
    "df2.drop(index=['ZhangFei'])\n",
    "df3 = df2.rename(columns={'Chinese':'YuWen','English':'YinYu'}, inplace=False)\n",
    "df3.head()"
   ]
  },
  {
   "cell_type": "code",
   "execution_count": null,
   "metadata": {},
   "outputs": [],
   "source": [
    "df2.head()"
   ]
  },
  {
   "cell_type": "code",
   "execution_count": null,
   "metadata": {},
   "outputs": [],
   "source": [
    "df = pd.read_csv('data-waiting-process.csv')\n",
    "# print(df)\n",
    "# df = df[df.Name != 'LiuBei']\n",
    "\n",
    "# print(df.Name.str.title())\n",
    "def plus(df, n, m):\n",
    "    df['nEng'] = (df['English']) * n\n",
    "    df['mEng'] = (df['English']) * m\n",
    "    return df\n",
    "\n",
    "def sum(df):\n",
    "    df['sum'] = df['Chinese'] + df['English'] + df['Math']\n",
    "    return df\n",
    "    \n",
    "# print(df.apply(plus,axis = 1, args = {2,3,}))\n",
    "# print(df.append(df0))\n",
    "df0 = df\n",
    "# print(pd.merge(df,df0))\n",
    "# dfq = pql.sqldf('select df.*, df0.* from df left join df0 on df.Name = df0.Name', globals())\n",
    "# print(df)\n",
    "# print(df.apply(sum, axis = 1))\n",
    "df['sum'] = df['Chinese'] + df['English'] + df['Math']\n",
    "\n"
   ]
  },
  {
   "cell_type": "code",
   "execution_count": null,
   "metadata": {},
   "outputs": [],
   "source": [
    "score = df[df.columns[1:4]]\n",
    "score = score.dropna(subset=['Math'])\n",
    "w = pd.DataFrame([1,2,3], index=['Chinese','English','Math'])\n",
    "df['weight score'] = score.dot(w)\n",
    "df"
   ]
  }
 ],
 "metadata": {
  "kernelspec": {
   "display_name": "venv",
   "language": "python",
   "name": "venv"
  },
  "language_info": {
   "codemirror_mode": {
    "name": "ipython",
    "version": 3
   },
   "file_extension": ".py",
   "mimetype": "text/x-python",
   "name": "python",
   "nbconvert_exporter": "python",
   "pygments_lexer": "ipython3",
   "version": "3.6.8"
  }
 },
 "nbformat": 4,
 "nbformat_minor": 2
}
