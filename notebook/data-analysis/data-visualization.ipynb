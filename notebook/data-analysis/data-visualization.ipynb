{
 "cells": [
  {
   "cell_type": "code",
   "execution_count": null,
   "metadata": {},
   "outputs": [],
   "source": [
    "import numpy as np\n",
    "import pandas as pd\n",
    "import matplotlib.pyplot as plt\n",
    "import seaborn as sns\n",
    "from matplotlib.font_manager import FontProperties"
   ]
  },
  {
   "cell_type": "code",
   "execution_count": null,
   "metadata": {},
   "outputs": [],
   "source": [
    "N = 1000\n",
    "x = np.random.randn(N)\n",
    "y = np.random.randn(N)\n",
    "\n",
    "plt.scatter(x, y, marker=None)\n",
    "\n",
    "df = pd.DataFrame({'x': x, 'y': y})\n",
    "sns.jointplot(x = 'x', y = 'y', data = df, kind = 'scatter')\n",
    "plt.show()"
   ]
  },
  {
   "cell_type": "code",
   "execution_count": null,
   "metadata": {},
   "outputs": [],
   "source": [
    "x = np.arange(2010, 2020)\n",
    "y = [5, 3, 6, 20, 17, 16, 19, 30, 32, 35]\n",
    "plt.plot(x, y)\n",
    "plt.show()\n",
    "\n",
    "df = pd.DataFrame({'x': x, 'y': y})\n",
    "sns.lineplot(x = 'x', y = 'y', data = df)\n",
    "plt.show()"
   ]
  },
  {
   "cell_type": "code",
   "execution_count": null,
   "metadata": {},
   "outputs": [],
   "source": [
    "a = np.random.randn(100)\n",
    "s = pd.Series(a)\n",
    "plt.hist(a, bins = 10)\n",
    "plt.show()\n",
    "\n",
    "sns.distplot(s, kde = False)\n",
    "plt.show()\n",
    "\n",
    "sns.distplot(s, kde = True)\n",
    "plt.show()"
   ]
  },
  {
   "cell_type": "code",
   "execution_count": null,
   "metadata": {},
   "outputs": [],
   "source": [
    "x = ['Cat1', 'Cat2', 'Cat3', 'Cat4', 'Cat5']\n",
    "y = [5, 4, 8, 12, 7]\n",
    "\n",
    "plt.bar(x, y)\n",
    "plt.show()\n",
    "\n",
    "df = pd.DataFrame({'cat': x, 'y': y})\n",
    "sns.barplot(x = 'cat', y = 'y', data = df)\n",
    "plt.show()"
   ]
  },
  {
   "cell_type": "code",
   "execution_count": null,
   "metadata": {},
   "outputs": [],
   "source": [
    "data = np.random.normal(size = (10, 4))\n",
    "labels = ['A', 'B', 'C', 'D']\n",
    "plt.boxplot(data, labels = labels)\n",
    "plt.show()\n",
    "\n",
    "df = pd.DataFrame(data, columns = labels)\n",
    "sns.boxplot(data = df)\n",
    "plt.show()"
   ]
  },
  {
   "cell_type": "code",
   "execution_count": null,
   "metadata": {},
   "outputs": [],
   "source": [
    "nums = [25, 37, 33, 37, 6]\n",
    "labels = ['High-school', 'Bachelor', 'Master', 'Ph.d', 'Others']\n",
    "plt.pie(x = nums, labels = labels)\n",
    "plt.show()"
   ]
  },
  {
   "cell_type": "code",
   "execution_count": null,
   "metadata": {},
   "outputs": [],
   "source": [
    "flights = sns.load_dataset('flights')\n",
    "data = flights.pivot('year', 'month', 'passengers')\n",
    "sns.heatmap(data)\n",
    "plt.show()"
   ]
  },
  {
   "cell_type": "code",
   "execution_count": null,
   "metadata": {},
   "outputs": [],
   "source": [
    "labels = np.array(['PUSH', 'KDA', 'SURVIVAL', 'TEAM FIGHT', 'GROWTH', 'CARRY'])\n",
    "stats = [83, 61, 95, 67, 76, 88]\n",
    "\n",
    "angles = np.linspace(0, 2 * np.pi, len(labels), endpoint = False)\n",
    "stats = np.concatenate((stats, [stats[0]]))\n",
    "angles = np.concatenate((angles, [angles[0]]))\n",
    "\n",
    "fig = plt.figure()\n",
    "ax = fig.add_subplot(111, polar = True)\n",
    "ax.plot(angles, stats, 'o-', linewidth = 2)\n",
    "ax.fill(angles, stats, alpha = 0.25)\n",
    "# font = FontProperties(fname = 'C:\\Windows\\Fonts\\微软雅黑.ttf', size = 14)\n",
    "ax.set_thetagrids(angles * 180 / np.pi, labels)\n",
    "plt.show()"
   ]
  },
  {
   "cell_type": "code",
   "execution_count": null,
   "metadata": {},
   "outputs": [],
   "source": [
    "tips = sns.load_dataset('tips')\n",
    "sns.jointplot(x = 'total_bill', y = 'tip', data = tips, kind = 'scatter')\n",
    "sns.jointplot(x = 'total_bill', y = 'tip', data = tips, kind = 'kde')\n",
    "sns.jointplot(x = 'total_bill', y = 'tip', data = tips, kind = 'hex')\n",
    "\n",
    "plt.show()"
   ]
  },
  {
   "cell_type": "code",
   "execution_count": null,
   "metadata": {},
   "outputs": [],
   "source": [
    "iris = sns.load_dataset('iris')\n",
    "print(iris.head(10))\n",
    "sns.pairplot(iris)\n",
    "plt.show()"
   ]
  },
  {
   "cell_type": "code",
   "execution_count": null,
   "metadata": {},
   "outputs": [],
   "source": [
    "import sklearn as sk\n",
    "from sklearn.model_selection import train_test_split\n",
    "from sklearn.metrics import accuracy_score\n",
    "from sklearn.tree import DecisionTreeClassifier\n",
    "from sklearn import tree\n",
    "from sklearn.datasets import load_iris\n",
    "import graphviz"
   ]
  },
  {
   "cell_type": "code",
   "execution_count": null,
   "metadata": {},
   "outputs": [],
   "source": [
    "iris = load_iris()\n",
    "features = iris.data\n",
    "labels = iris.target\n",
    "train_features, test_features, train_labels, test_labels = train_test_split(features, labels, test_size = 0.33, random_state = 0)\n",
    "\n",
    "clf = DecisionTreeClassifier(criterion = 'gini')\n",
    "clf = clf.fit(train_features, train_labels)\n",
    "\n",
    "test_predict = clf.predict(test_features)\n",
    "score = accuracy_score(test_labels, test_predict)\n",
    "print(\"CART 分类树准确率 %.4lf\" % score)\n",
    "# dot_data = tree.export_graphviz(clf, out_file=None, \n",
    "#                       feature_names=iris.feature_names,  \n",
    "#                       class_names=iris.target_names,  \n",
    "#                       filled=True, rounded=True,  \n",
    "#                       special_characters=True)  \n",
    "# graph = graphviz.Source(dot_data)  \n",
    "# graph"
   ]
  },
  {
   "cell_type": "code",
   "execution_count": null,
   "metadata": {},
   "outputs": [],
   "source": [
    "boston = sk.datasets.load_boston()\n",
    "print(boston.feature_names)\n",
    "features = boston.data\n",
    "prices = boston.target\n",
    "train_features, test_features, train_prices, test_prices = train_test_split(features, prices, test_size = 0.33)\n",
    "dtr = tree.DecisionTreeRegressor()\n",
    "dtr.fit(train_features, train_prices)\n",
    "predict_prices = dtr.predict(test_features)\n",
    "print('回归树二乘偏差均值 ', sk.metrics.mean_squared_error(test_prices, predict_prices))\n",
    "print('回归树绝对值偏差均值 ', sk.metrics.mean_absolute_error(test_prices, predict_prices))\n",
    "\n",
    "dot_data = tree.export_graphviz(dtr, out_file=None, \n",
    "                      feature_names=boston.feature_names,  \n",
    "#                       class_names=boston.target_names,  \n",
    "                      filled=True, rounded=True,  \n",
    "                      special_characters=True)  \n",
    "graph = graphviz.Source(dot_data)  \n",
    "graph"
   ]
  }
 ],
 "metadata": {
  "kernelspec": {
   "display_name": "venv",
   "language": "python",
   "name": "venv"
  },
  "language_info": {
   "codemirror_mode": {
    "name": "ipython",
    "version": 3
   },
   "file_extension": ".py",
   "mimetype": "text/x-python",
   "name": "python",
   "nbconvert_exporter": "python",
   "pygments_lexer": "ipython3",
   "version": "3.6.8"
  }
 },
 "nbformat": 4,
 "nbformat_minor": 2
}
