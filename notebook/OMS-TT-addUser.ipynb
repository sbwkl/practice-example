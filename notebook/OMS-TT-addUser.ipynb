{
 "cells": [
  {
   "cell_type": "code",
   "execution_count": null,
   "metadata": {},
   "outputs": [],
   "source": [
    "import requests"
   ]
  },
  {
   "cell_type": "code",
   "execution_count": null,
   "metadata": {},
   "outputs": [],
   "source": [
    "class BizError(Exception):\n",
    "    pass"
   ]
  },
  {
   "cell_type": "code",
   "execution_count": 62,
   "metadata": {},
   "outputs": [
    {
     "name": "stdout",
     "output_type": "stream",
     "text": [
      "wayne.wang1 do not exist!\n"
     ]
    },
    {
     "ename": "BizError",
     "evalue": "wayne.wang1 do not exist!",
     "output_type": "error",
     "traceback": [
      "\u001b[1;31m---------------------------------------------------------------------------\u001b[0m",
      "\u001b[1;31mBizError\u001b[0m                                  Traceback (most recent call last)",
      "\u001b[1;32m<ipython-input-62-caabee8a7ab0>\u001b[0m in \u001b[0;36m<module>\u001b[1;34m\u001b[0m\n\u001b[0;32m     41\u001b[0m \u001b[1;32mexcept\u001b[0m \u001b[0mBizError\u001b[0m \u001b[1;32mas\u001b[0m \u001b[0mbe\u001b[0m\u001b[1;33m:\u001b[0m\u001b[1;33m\u001b[0m\u001b[1;33m\u001b[0m\u001b[0m\n\u001b[0;32m     42\u001b[0m     \u001b[0mprint\u001b[0m\u001b[1;33m(\u001b[0m\u001b[0mbe\u001b[0m\u001b[1;33m)\u001b[0m\u001b[1;33m\u001b[0m\u001b[1;33m\u001b[0m\u001b[0m\n\u001b[1;32m---> 43\u001b[1;33m     \u001b[1;32mraise\u001b[0m \u001b[0mbe\u001b[0m\u001b[1;33m\u001b[0m\u001b[1;33m\u001b[0m\u001b[0m\n\u001b[0m\u001b[0;32m     44\u001b[0m \u001b[1;32mexcept\u001b[0m \u001b[0mException\u001b[0m \u001b[1;32mas\u001b[0m \u001b[0me\u001b[0m\u001b[1;33m:\u001b[0m\u001b[1;33m\u001b[0m\u001b[1;33m\u001b[0m\u001b[0m\n\u001b[0;32m     45\u001b[0m     \u001b[1;32mraise\u001b[0m \u001b[0me\u001b[0m\u001b[1;33m\u001b[0m\u001b[1;33m\u001b[0m\u001b[0m\n",
      "\u001b[1;32m<ipython-input-62-caabee8a7ab0>\u001b[0m in \u001b[0;36m<module>\u001b[1;34m\u001b[0m\n\u001b[0;32m     35\u001b[0m     \u001b[0muser\u001b[0m \u001b[1;33m=\u001b[0m \u001b[0mres\u001b[0m\u001b[1;33m.\u001b[0m\u001b[0mjson\u001b[0m\u001b[1;33m(\u001b[0m\u001b[1;33m)\u001b[0m\u001b[1;33m\u001b[0m\u001b[1;33m\u001b[0m\u001b[0m\n\u001b[0;32m     36\u001b[0m     \u001b[1;32mif\u001b[0m \u001b[1;33m(\u001b[0m\u001b[0muser\u001b[0m \u001b[1;32mis\u001b[0m \u001b[1;32mNone\u001b[0m \u001b[1;32mor\u001b[0m \u001b[1;32mnot\u001b[0m \u001b[0muser\u001b[0m\u001b[1;33m[\u001b[0m\u001b[1;34m'success'\u001b[0m\u001b[1;33m]\u001b[0m \u001b[1;32mor\u001b[0m \u001b[0muser\u001b[0m\u001b[1;33m[\u001b[0m\u001b[1;34m'data'\u001b[0m\u001b[1;33m]\u001b[0m \u001b[1;32mis\u001b[0m \u001b[1;32mNone\u001b[0m\u001b[1;33m)\u001b[0m\u001b[1;33m:\u001b[0m\u001b[1;33m\u001b[0m\u001b[1;33m\u001b[0m\u001b[0m\n\u001b[1;32m---> 37\u001b[1;33m         \u001b[1;32mraise\u001b[0m \u001b[0mBizError\u001b[0m\u001b[1;33m(\u001b[0m\u001b[0mrefAccount\u001b[0m \u001b[1;33m+\u001b[0m \u001b[1;34m' do not exist!'\u001b[0m\u001b[1;33m)\u001b[0m\u001b[1;33m\u001b[0m\u001b[1;33m\u001b[0m\u001b[0m\n\u001b[0m\u001b[0;32m     38\u001b[0m     \u001b[0mposition\u001b[0m \u001b[1;33m=\u001b[0m \u001b[0muser\u001b[0m\u001b[1;33m[\u001b[0m\u001b[1;34m'data'\u001b[0m\u001b[1;33m]\u001b[0m\u001b[1;33m[\u001b[0m\u001b[1;34m'positionId'\u001b[0m\u001b[1;33m]\u001b[0m\u001b[1;33m\u001b[0m\u001b[1;33m\u001b[0m\u001b[0m\n\u001b[0;32m     39\u001b[0m     \u001b[1;32mif\u001b[0m \u001b[1;33m(\u001b[0m\u001b[0mposition\u001b[0m \u001b[1;32mis\u001b[0m \u001b[1;32mNone\u001b[0m\u001b[1;33m)\u001b[0m\u001b[1;33m:\u001b[0m\u001b[1;33m\u001b[0m\u001b[1;33m\u001b[0m\u001b[0m\n",
      "\u001b[1;31mBizError\u001b[0m: wayne.wang1 do not exist!"
     ]
    }
   ],
   "source": [
    "host = 'http://oms-dev.int.husor.com:7777'\n",
    "# host = 'http://oms.beibei.com.cn'\n",
    "ssoid = 'b212bb62-1694-4084-b5ac-f1833383d282';\n",
    "account = 'test.beibei1' \n",
    "accountName = '测试用户' \n",
    "refAccount = 'wayne.wang1' # 参照的用户权限\n",
    "\n",
    "cookies = {}\n",
    "cookies['OMSSESSIONID'] = ssoid\n",
    "# raise ValueError('sso id not valid')\n",
    "# 获取参照权限 position\n",
    "# refUser = requests.get('', cookies=cookies).json()\n",
    "param = {}\n",
    "param['username'] = account;\n",
    "res = requests.get(host + '/api/users/username', params=param, cookies=cookies)\n",
    "\n",
    "try:\n",
    "    user = res.json()\n",
    "    if (user is not None and user['success'] and user['data']):\n",
    "        raise BizError(account + ' has been grant position = ' + str(user['data']['positionId']))\n",
    "except ValueError as ve:\n",
    "    print('sso id not valid')\n",
    "    raise ve\n",
    "except BizError as be:\n",
    "    print(be)\n",
    "    raise be\n",
    "except Exception as e:\n",
    "    raise e\n",
    "\n",
    "\n",
    "param['username'] = refAccount;\n",
    "res = requests.get(host + '/api/users/username', params=param, cookies=cookies)\n",
    "try:\n",
    "    user = res.json()\n",
    "    if (user is None or not user['success'] or user['data'] is None):\n",
    "        raise BizError(refAccount + ' do not exist!')\n",
    "    position = user['data']['positionId']\n",
    "    if (position is None):\n",
    "        raise BizError(refAccount + ' do not has position')\n",
    "except BizError as be:\n",
    "    print(be)\n",
    "    raise be\n",
    "except Exception as e:\n",
    "    raise e\n",
    "\n",
    "url = host + '/api/users/addUsers?userNames=' + account + ':' + accountName + '&position=' + str(position)\n",
    "res = requests.post(url, cookies=cookies)\n",
    "print(res.text)\n",
    "if (res.json() and res.json()['success']):\n",
    "    print('OMS user has been add')\n",
    "else:\n",
    "    print('OMS user add failed')"
   ]
  }
 ],
 "metadata": {
  "kernelspec": {
   "display_name": "py36",
   "language": "python",
   "name": "py36"
  },
  "language_info": {
   "codemirror_mode": {
    "name": "ipython",
    "version": 3
   },
   "file_extension": ".py",
   "mimetype": "text/x-python",
   "name": "python",
   "nbconvert_exporter": "python",
   "pygments_lexer": "ipython3",
   "version": "3.6.8"
  }
 },
 "nbformat": 4,
 "nbformat_minor": 2
}
