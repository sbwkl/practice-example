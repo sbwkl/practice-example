{
 "cells": [
  {
   "cell_type": "code",
   "execution_count": 74,
   "metadata": {},
   "outputs": [],
   "source": [
    "from datetime import datetime, timedelta\n",
    "import pandas as pd\n",
    "import numpy as np\n",
    "import csv\n",
    "import re\n",
    "import locale\n",
    "pd.options.mode.chained_assignment = None  # default='warn'"
   ]
  },
  {
   "cell_type": "code",
   "execution_count": 75,
   "metadata": {},
   "outputs": [],
   "source": [
    "def has_keyword(title, words):\n",
    "    for kw in words:\n",
    "        if kw in title:\n",
    "            return True\n",
    "    return False\n",
    "def has_food_keyword(title):\n",
    "    return has_keyword(title, ['餐饮', '百胜', '超市', '食品'])\n",
    "def has_traffic_keyword(title):\n",
    "    return has_keyword(title, ['地铁', '顺丰', '铁路'])\n",
    "def has_fushi_keyword(title):\n",
    "    return has_keyword(title, ['服饰', '曾宝琴'])\n",
    "\n",
    "def predict_category(row):\n",
    "    title = row['交易摘要']\n",
    "    amt = row['amount']\n",
    "    category = ''\n",
    "    if float(amt) > 0:\n",
    "        return category\n",
    "        \n",
    "    if has_food_keyword(title):\n",
    "        category = '餐饮&外出就餐 > 餐饮/外出就餐'\n",
    "    if has_traffic_keyword(title):\n",
    "        category = '交通'\n",
    "    if '燃气' in title:\n",
    "        category = '账单 > 燃气'\n",
    "    if has_fushi_keyword(title):\n",
    "        category = '衣服 > 服装'\n",
    "    if '发型' in title:\n",
    "        category = '休闲 > 个人护理'\n",
    "    if '淘票票' in title:\n",
    "        category = '休闲 > 娱乐'\n",
    "    if '中国移动' in title:\n",
    "        category = '账单 > 电话'\n",
    "\n",
    "    return category"
   ]
  },
  {
   "cell_type": "code",
   "execution_count": 76,
   "metadata": {},
   "outputs": [],
   "source": [
    "def predict_payee(row):\n",
    "    payee = row['交易摘要']\n",
    "    segment_list = payee.split('-')\n",
    "    if len(segment_list) > 1:\n",
    "        payee = segment_list[1]\n",
    "    segment_list = payee.split(' ')\n",
    "    payee = segment_list[0]\n",
    "    payee = re.sub('（.*）', '', payee)\n",
    "    payee = re.sub('\\(.*\\)', '', payee)\n",
    "    return payee"
   ]
  },
  {
   "cell_type": "code",
   "execution_count": 77,
   "metadata": {},
   "outputs": [],
   "source": [
    "def predict_date(row):\n",
    "    amt = row['amount']\n",
    "    date_str = '2022/' + row['记账日']\n",
    "    if float(amt) > 0:\n",
    "        return date_str\n",
    "    d = datetime.strptime(date_str, '%Y/%m/%d')\n",
    "    d = d - timedelta(1)\n",
    "    return d.strftime('%Y/%m/%d')"
   ]
  },
  {
   "cell_type": "code",
   "execution_count": 78,
   "metadata": {},
   "outputs": [
    {
     "data": {
      "text/plain": [
       "-3972.84"
      ]
     },
     "execution_count": 78,
     "metadata": {},
     "output_type": "execute_result"
    }
   ],
   "source": [
    "work_dir = 'C:/Users/wayne/Desktop/credit/'\n",
    "filname = 'CreditCardReckoning2022-11'\n",
    "credit_book = pd.read_csv(work_dir + filname + '.csv')\n",
    "credit_book = credit_book[credit_book['交易日'].notnull()]\n",
    "credit_book = credit_book[credit_book['交易日'] != 'SOLD']\n",
    "credit_book.dropna(how='all', inplace=True)\n",
    "\n",
    "locale.setlocale(locale.LC_ALL, '')\n",
    "credit_book['amount'] = credit_book.apply(lambda row: locale.atof(row['人民币金额']) * -1, axis=1)\n",
    "credit_book['category'] = credit_book.apply(lambda row: predict_category(row), axis=1)\n",
    "credit_book['payee'] = credit_book.apply(lambda row: predict_payee(row), axis=1)\n",
    "credit_book['date'] = credit_book.apply(lambda row: predict_date(row), axis=1)\n",
    "credit_book.to_csv(work_dir + filname + '-out.csv', index=False)\n",
    "\n",
    "credit_book['amount'].sum()"
   ]
  }
 ],
 "metadata": {
  "kernelspec": {
   "display_name": "Python 3.7.9 ('py37')",
   "language": "python",
   "name": "python3"
  },
  "language_info": {
   "codemirror_mode": {
    "name": "ipython",
    "version": 3
   },
   "file_extension": ".py",
   "mimetype": "text/x-python",
   "name": "python",
   "nbconvert_exporter": "python",
   "pygments_lexer": "ipython3",
   "version": "3.7.9"
  },
  "vscode": {
   "interpreter": {
    "hash": "f4a30c5b65b1e5541e85fe9511626a713564a3c6797ae7222a9b7d735b866c70"
   }
  }
 },
 "nbformat": 4,
 "nbformat_minor": 2
}
