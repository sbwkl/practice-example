{
 "cells": [
  {
   "cell_type": "code",
   "execution_count": 1,
   "metadata": {},
   "outputs": [],
   "source": [
    "import pandas as pd\n",
    "import numpy as np"
   ]
  },
  {
   "cell_type": "code",
   "execution_count": 2,
   "metadata": {},
   "outputs": [
    {
     "name": "stdout",
     "output_type": "stream",
     "text": [
      "drink:  72.15469613259668\n",
      "sport:  10.497237569060774\n",
      "blog:  30.386740331491712\n",
      "read:  44.85981308411215\n",
      "write:  28.971962616822427\n"
     ]
    }
   ],
   "source": [
    "df = pd.read_csv('~/Downloads/daily-task-record.csv')\n",
    "\n",
    "half_year = df.loc[df['时间'] < '2022-07-01']\n",
    "\n",
    "\n",
    "half_year = half_year.sort_values(by = ['时间'], key = lambda col: col.str.lower())\n",
    "half_year.reset_index(inplace=True, drop=True)\n",
    "\n",
    "total_day = half_year['时间'].count()\n",
    "\n",
    "total_drink = half_year['喝水'].sum()\n",
    "total_sport= half_year['10 个波比跳'].sum()\n",
    "total_blog = half_year['看一篇文章'].sum()\n",
    "total_read = half_year['看一页书'].sum()\n",
    "total_write = half_year['写一句话'].sum()\n",
    "\n",
    "print('drink: ', total_drink / (total_day * 5) * 100)\n",
    "print('sport: ', total_sport / total_day * 100)\n",
    "print('blog: ', total_blog / total_day * 100)\n",
    "print('read: ', total_read / 107 * 100)\n",
    "print('write: ', total_write / 107 * 100)"
   ]
  },
  {
   "cell_type": "code",
   "execution_count": 3,
   "metadata": {},
   "outputs": [
    {
     "data": {
      "text/html": [
       "<div>\n",
       "<style scoped>\n",
       "    .dataframe tbody tr th:only-of-type {\n",
       "        vertical-align: middle;\n",
       "    }\n",
       "\n",
       "    .dataframe tbody tr th {\n",
       "        vertical-align: top;\n",
       "    }\n",
       "\n",
       "    .dataframe thead th {\n",
       "        text-align: right;\n",
       "    }\n",
       "</style>\n",
       "<table border=\"1\" class=\"dataframe\">\n",
       "  <thead>\n",
       "    <tr style=\"text-align: right;\">\n",
       "      <th></th>\n",
       "      <th>date</th>\n",
       "      <th>喝水</th>\n",
       "    </tr>\n",
       "    <tr>\n",
       "      <th>weekday</th>\n",
       "      <th></th>\n",
       "      <th></th>\n",
       "    </tr>\n",
       "  </thead>\n",
       "  <tbody>\n",
       "    <tr>\n",
       "      <th>0</th>\n",
       "      <td>4</td>\n",
       "      <td>4</td>\n",
       "    </tr>\n",
       "    <tr>\n",
       "      <th>1</th>\n",
       "      <td>3</td>\n",
       "      <td>3</td>\n",
       "    </tr>\n",
       "    <tr>\n",
       "      <th>2</th>\n",
       "      <td>2</td>\n",
       "      <td>2</td>\n",
       "    </tr>\n",
       "    <tr>\n",
       "      <th>3</th>\n",
       "      <td>2</td>\n",
       "      <td>2</td>\n",
       "    </tr>\n",
       "    <tr>\n",
       "      <th>4</th>\n",
       "      <td>3</td>\n",
       "      <td>3</td>\n",
       "    </tr>\n",
       "    <tr>\n",
       "      <th>5</th>\n",
       "      <td>13</td>\n",
       "      <td>13</td>\n",
       "    </tr>\n",
       "    <tr>\n",
       "      <th>6</th>\n",
       "      <td>20</td>\n",
       "      <td>20</td>\n",
       "    </tr>\n",
       "  </tbody>\n",
       "</table>\n",
       "</div>"
      ],
      "text/plain": [
       "         date  喝水\n",
       "weekday          \n",
       "0           4   4\n",
       "1           3   3\n",
       "2           2   2\n",
       "3           2   2\n",
       "4           3   3\n",
       "5          13  13\n",
       "6          20  20"
      ]
     },
     "execution_count": 3,
     "metadata": {},
     "output_type": "execute_result"
    }
   ],
   "source": [
    "half_year['date'] = pd.to_datetime(half_year['时间'])\n",
    "half_year['weekday'] = half_year.apply(lambda x: x['date'].weekday(), axis=1)\n",
    "\n",
    "half_year = half_year.fillna(-1)\n",
    "no_drink = half_year.loc[half_year['喝水'] < 0]\n",
    "no_drink = no_drink[['date', 'weekday', '喝水']]\n",
    "ndg = no_drink.groupby(['weekday']).count()\n",
    "\n",
    "ndg"
   ]
  }
 ],
 "metadata": {
  "kernelspec": {
   "display_name": "practice-example",
   "language": "python",
   "name": "practice-example"
  },
  "language_info": {
   "codemirror_mode": {
    "name": "ipython",
    "version": 3
   },
   "file_extension": ".py",
   "mimetype": "text/x-python",
   "name": "python",
   "nbconvert_exporter": "python",
   "pygments_lexer": "ipython3",
   "version": "3.7.13"
  },
  "orig_nbformat": 4
 },
 "nbformat": 4,
 "nbformat_minor": 2
}
