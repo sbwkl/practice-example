{
 "cells": [
  {
   "cell_type": "code",
   "execution_count": 24,
   "metadata": {},
   "outputs": [],
   "source": [
    "from queue import *"
   ]
  },
  {
   "cell_type": "code",
   "execution_count": null,
   "metadata": {},
   "outputs": [],
   "source": [
    "# Practice A\n",
    "\n",
    "# build a graph\n",
    "graphA = {}\n",
    "graphA['start'] = {}\n",
    "graphA['start']['A'] = 5\n",
    "graphA['start']['B'] = 2\n",
    "\n",
    "graphA['A'] = {}\n",
    "graphA['A']['C'] = 4\n",
    "graphA['A']['D'] = 2\n",
    "\n",
    "graphA['B'] = {}\n",
    "graphA['B']['A'] = 8\n",
    "graphA['B']['D'] = 7\n",
    "\n",
    "graphA['C'] = {}\n",
    "graphA['C']['fin'] = 3\n",
    "graphA['C']['D'] = 6\n",
    "\n",
    "graphA['D'] = {}\n",
    "graphA['D']['fin'] = 1\n",
    "\n",
    "graphA['fin'] = None\n",
    "\n",
    "print(graphA)\n",
    "print(graphA.keys())"
   ]
  },
  {
   "cell_type": "code",
   "execution_count": 32,
   "metadata": {},
   "outputs": [
    {
     "name": "stdout",
     "output_type": "stream",
     "text": [
      "start：A\n",
      "start：B\n",
      "A：C\n",
      "A：D\n",
      "B：A\n",
      "B：D\n",
      "C：fin\n",
      "C：D\n",
      "D：fin\n",
      "A：C\n",
      "A：D\n",
      "D：fin\n",
      "D：fin\n",
      "C：fin\n",
      "C：D\n",
      "D：fin\n",
      "D：fin\n",
      "{'start': 'B', 'A': 'D', 'B': 'D', 'C': 'D', 'D': 'fin'}\n"
     ]
    }
   ],
   "source": [
    "# use breadth-first search \n",
    "wait_search_node = Queue()\n",
    "wait_search_node.put('start')\n",
    "paths = {}\n",
    "while not wait_search_node.empty():\n",
    "    node = wait_search_node.get()\n",
    "    next_node = graphA[node]\n",
    "    if next_node is not None:\n",
    "        for nd in next_node.keys():\n",
    "            print(node + '：' + nd)\n",
    "            paths[node] = nd\n",
    "            wait_search_node.put(nd)\n",
    "        \n",
    "print(paths)\n",
    "\n",
    "    \n"
   ]
  },
  {
   "cell_type": "code",
   "execution_count": null,
   "metadata": {},
   "outputs": [],
   "source": [
    "infinity = float('inf')\n",
    "searched = []\n",
    "shortest = {}\n",
    "parent = {}\n",
    "for node in graphA.keys():"
   ]
  }
 ],
 "metadata": {
  "kernelspec": {
   "display_name": "py36",
   "language": "python",
   "name": "py36"
  },
  "language_info": {
   "codemirror_mode": {
    "name": "ipython",
    "version": 3
   },
   "file_extension": ".py",
   "mimetype": "text/x-python",
   "name": "python",
   "nbconvert_exporter": "python",
   "pygments_lexer": "ipython3",
   "version": "3.6.8"
  }
 },
 "nbformat": 4,
 "nbformat_minor": 2
}
