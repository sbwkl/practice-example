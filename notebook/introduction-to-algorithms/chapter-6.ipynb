{
 "cells": [
  {
   "cell_type": "code",
   "execution_count": 3,
   "metadata": {},
   "outputs": [],
   "source": [
    "from IPython.core.debugger import set_trace"
   ]
  },
  {
   "cell_type": "code",
   "execution_count": 23,
   "metadata": {},
   "outputs": [],
   "source": [
    "class HeapList(list):\n",
    "    heap_size = 0\n",
    "    \n",
    "    # 实在不会在构造函数中设置 heap_size 额外弄个方法设置下先\n",
    "    def set_heap_size(self):\n",
    "        self.heap_size = len(self)\n",
    "        \n",
    "    def valid_list(self):\n",
    "        if self.heap_size < 1:\n",
    "            raise 'heap underflow'\n",
    "        return self[:self.heap_size]\n",
    "    \n",
    "def tree_str(A, i):\n",
    "    l = left(i)\n",
    "    r = right(i)\n",
    "    if i > A.heap_size:\n",
    "        return ''\n",
    "    else:\n",
    "        s = '{\"key\":' + str(A[i - 1])\n",
    "        if l <= A.heap_size:\n",
    "            s = s + ', \"left\":' + tree_str(A, l)\n",
    "        if r <= A.heap_size:\n",
    "            s = s + ', \"right\":' + tree_str(A, r)\n",
    "        s = s + '}'\n",
    "    return s\n",
    "        \n",
    "\n",
    "def parent(i):\n",
    "    return i // 2\n",
    "\n",
    "def left(i):\n",
    "    return 2 * i\n",
    "\n",
    "def right(i):\n",
    "    return 2 * i + 1\n",
    "\n",
    "def max_heapify(A, i):\n",
    "    l = left(i)\n",
    "    r = right(i)\n",
    "    if l <= A.heap_size and A[l - 1] > A[i - 1]:\n",
    "        largest = l\n",
    "    else:\n",
    "        largest = i\n",
    "    if r <= A.heap_size and A[r - 1] > A[largest - 1]:\n",
    "        largest = r\n",
    "    if largest != i:\n",
    "        # exchange A[i] and A[largest]\n",
    "        tmp = A[i - 1]\n",
    "        A[i - 1] = A[largest - 1]\n",
    "        A[largest - 1] = tmp\n",
    "        max_heapify(A, largest)\n",
    "        \n",
    "def build_max_heap(A):\n",
    "    for i in range(len(A) // 2, 0, -1):\n",
    "        max_heapify(A, i)\n",
    "\n",
    "def heapsort(A):\n",
    "    build_max_heap(A)\n",
    "    length = len(A)\n",
    "    for i in range(length, 1, -1):\n",
    "        # exchange A[1] with A[i]\n",
    "        tmp = A[i - 1]\n",
    "        A[i - 1] = A[0]\n",
    "        A[0] = tmp\n",
    "        A.heap_size = A.heap_size - 1\n",
    "        max_heapify(A, 1)"
   ]
  },
  {
   "cell_type": "code",
   "execution_count": 5,
   "metadata": {},
   "outputs": [
    {
     "name": "stdout",
     "output_type": "stream",
     "text": [
      "[1, 2, 3, 4, 7, 8, 9, 10, 14, 16]\n"
     ]
    }
   ],
   "source": [
    "A = HeapList([4, 1, 3, 2, 16, 9, 10, 14, 8, 7])\n",
    "A.set_heap_size()\n",
    "\n",
    "heapsort(A)\n",
    "print(A)"
   ]
  },
  {
   "cell_type": "code",
   "execution_count": 16,
   "metadata": {},
   "outputs": [],
   "source": [
    "def heap_maximum(A):\n",
    "    return A[0]\n",
    "\n",
    "def heap_extract_max(A):\n",
    "    if A.heap_size < 1:\n",
    "        raise 'heap underflow'\n",
    "    m = A[0]\n",
    "    A[0] = A[A.heap_size - 1]\n",
    "    A.heap_size = A.heap_size - 1\n",
    "    max_heapify(A, 1)\n",
    "    return m\n",
    "    \n",
    "def heap_increase_key(A, i, key):\n",
    "    if key < A[i - 1]:\n",
    "        raise 'new key is smaller than current key'\n",
    "    A[i - 1] = key\n",
    "    while i > 1 and A[parent(i) - 1] < A[i - 1]:\n",
    "        # exchange A[parent] and A[i]\n",
    "        tmp = A[i - 1]\n",
    "        A[i - 1] = A[parent(i) - 1]\n",
    "        A[parent(i) - 1] = tmp\n",
    "        i = parent(i)\n",
    "\n",
    "def max_heap_insert(A, key):\n",
    "    A.heap_size = A.heap_size + 1\n",
    "    A.append(float('-inf'))\n",
    "    heap_increase_key(A, A.heap_size, key)"
   ]
  },
  {
   "cell_type": "code",
   "execution_count": 25,
   "metadata": {},
   "outputs": [
    {
     "name": "stdout",
     "output_type": "stream",
     "text": [
      "15\n",
      "[13, 12, 9, 5, 6, 8, 7, 4, 0, 1, 2, 1]\n",
      "[13, 12, 9, 5, 6, 8, 7, 4, 0, 1, 2]\n",
      "[15, 13, 10, 5, 12, 9, 7, 4, 0, 6, 2, 1, 8]\n"
     ]
    }
   ],
   "source": [
    "A651 = HeapList([15, 13, 9, 5, 12, 8, 7, 4, 0, 6, 2, 1])\n",
    "A651.set_heap_size()\n",
    "build_max_heap(A651)\n",
    "print(heap_extract_max(A651))\n",
    "print(A651)\n",
    "print(A651.valid_list())\n",
    "\n",
    "A652 = HeapList([15, 13, 9, 5, 12, 8, 7, 4, 0, 6, 2, 1])\n",
    "A652.set_heap_size()\n",
    "max_heap_insert(A652, 10)\n",
    "print(A652)"
   ]
  },
  {
   "cell_type": "code",
   "execution_count": null,
   "metadata": {},
   "outputs": [],
   "source": []
  }
 ],
 "metadata": {
  "kernelspec": {
   "display_name": "venv",
   "language": "python",
   "name": "venv"
  },
  "language_info": {
   "codemirror_mode": {
    "name": "ipython",
    "version": 3
   },
   "file_extension": ".py",
   "mimetype": "text/x-python",
   "name": "python",
   "nbconvert_exporter": "python",
   "pygments_lexer": "ipython3",
   "version": "3.6.8"
  }
 },
 "nbformat": 4,
 "nbformat_minor": 2
}
