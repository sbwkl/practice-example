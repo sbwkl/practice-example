{
 "cells": [
  {
   "cell_type": "code",
   "execution_count": null,
   "metadata": {},
   "outputs": [],
   "source": [
    "from IPython.core.debugger import set_trace"
   ]
  },
  {
   "cell_type": "code",
   "execution_count": null,
   "metadata": {},
   "outputs": [],
   "source": [
    "class HeapList(list):\n",
    "    heap_size = 0\n",
    "    \n",
    "    # 实在不会在构造函数中设置 heap_size 额外弄个方法设置下先\n",
    "    def set_heap_size(self):\n",
    "        self.heap_size = len(self)\n",
    "\n",
    "def parent(i):\n",
    "    return i // 2\n",
    "\n",
    "def left(i):\n",
    "    return 2 * i\n",
    "\n",
    "def right(i):\n",
    "    return 2 * i + 1\n",
    "\n",
    "def max_heapify(A, i):\n",
    "    l = left(i)\n",
    "    r = right(i)\n",
    "    if l <= A.heap_size and A[l - 1] > A[i - 1]:\n",
    "        largest = l\n",
    "    else:\n",
    "        largest = i\n",
    "    if r <= A.heap_size and A[r - 1] > A[largest - 1]:\n",
    "        largest = r\n",
    "    if largest != i:\n",
    "        # exchange A[i] and A[largest]\n",
    "        tmp = A[i - 1]\n",
    "        A[i - 1] = A[largest - 1]\n",
    "        A[largest - 1] = tmp\n",
    "        max_heapify(A, largest)\n",
    "        \n",
    "def build_max_heap(A):\n",
    "    for i in range(len(A) // 2, 0, -1):\n",
    "        max_heapify(A, i)\n",
    "\n",
    "def heapsort(A):\n",
    "    build_max_heap(A)\n",
    "    length = len(A)\n",
    "    for i in range(length, 1, -1):\n",
    "        # exchange A[1] with A[i]\n",
    "        tmp = A[i - 1]\n",
    "        A[i - 1] = A[0]\n",
    "        A[0] = tmp\n",
    "        A.heap_size = A.heap_size - 1\n",
    "        max_heapify(A, 1)"
   ]
  },
  {
   "cell_type": "code",
   "execution_count": null,
   "metadata": {},
   "outputs": [],
   "source": [
    "A = HeapList([4, 1, 3, 2, 16, 9, 10, 14, 8, 7])\n",
    "A.set_heap_size()\n",
    "\n",
    "heapsort(A)\n",
    "print(A)"
   ]
  },
  {
   "cell_type": "code",
   "execution_count": null,
   "metadata": {},
   "outputs": [],
   "source": []
  }
 ],
 "metadata": {
  "kernelspec": {
   "display_name": "py36",
   "language": "python",
   "name": "py36"
  },
  "language_info": {
   "codemirror_mode": {
    "name": "ipython",
    "version": 3
   },
   "file_extension": ".py",
   "mimetype": "text/x-python",
   "name": "python",
   "nbconvert_exporter": "python",
   "pygments_lexer": "ipython3",
   "version": "3.6.8"
  }
 },
 "nbformat": 4,
 "nbformat_minor": 2
}
