{
 "cells": [
  {
   "cell_type": "code",
   "execution_count": null,
   "metadata": {},
   "outputs": [],
   "source": [
    "def quick_sort(A, p, r):\n",
    "    q = partition(A, p, r)\n",
    "    if q != None:\n",
    "        quick_sort(A, p, q - 1)\n",
    "        quick_sort(A, q + 1, r)\n",
    "    \n",
    "def partition(A, p, r):\n",
    "    if p < r:\n",
    "        pivot = A[r - 1]\n",
    "        i = p - 1\n",
    "        for j in range(p, r):\n",
    "            if A[j - 1] < pivot:\n",
    "                i = i + 1\n",
    "                # exchange A[i] and A[j]\n",
    "                tmp = A[i - 1]\n",
    "                A[i - 1] = A[j - 1]\n",
    "                A[j - 1] = tmp\n",
    "\n",
    "        # echange A[i + 1] and pivot\n",
    "        tmp = A[i]\n",
    "        A[i] = A[r - 1]\n",
    "        A[r - 1] = tmp\n",
    "        return i + 1"
   ]
  },
  {
   "cell_type": "code",
   "execution_count": null,
   "metadata": {},
   "outputs": [],
   "source": [
    "A = [1, 3, 6, 9, 2, 5, 8, 7]\n",
    "quick_sort(A, 1, len(A))\n",
    "print(A)"
   ]
  },
  {
   "cell_type": "code",
   "execution_count": null,
   "metadata": {},
   "outputs": [],
   "source": []
  }
 ],
 "metadata": {
  "kernelspec": {
   "display_name": "py36",
   "language": "python",
   "name": "py36"
  },
  "language_info": {
   "codemirror_mode": {
    "name": "ipython",
    "version": 3
   },
   "file_extension": ".py",
   "mimetype": "text/x-python",
   "name": "python",
   "nbconvert_exporter": "python",
   "pygments_lexer": "ipython3",
   "version": "3.6.8"
  }
 },
 "nbformat": 4,
 "nbformat_minor": 2
}
