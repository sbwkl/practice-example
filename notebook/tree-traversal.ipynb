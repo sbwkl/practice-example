{
 "cells": [
  {
   "cell_type": "code",
   "execution_count": null,
   "metadata": {},
   "outputs": [],
   "source": [
    "tree = {\n",
    "    \"label\": \"a\",\n",
    "    \"children\": [\n",
    "        {\n",
    "            \"label\": \"b\",\n",
    "            \"children\": [\n",
    "                {\n",
    "                    \"label\": \"e\",\n",
    "                    \"children\": [\n",
    "                        {\"label\": \"j\"},\n",
    "                        {\n",
    "                            \"label\": \"k\",\n",
    "                            \"children\": [\n",
    "                                {\"label\": \"n\"},\n",
    "                                {\"label\": \"o\"},\n",
    "                                {\"label\": \"p\"}\n",
    "                            ]\n",
    "                        }\n",
    "                    ]\n",
    "                },\n",
    "                {\"label\": \"f\"}\n",
    "            ]\n",
    "        },\n",
    "        {\"label\": \"c\"},\n",
    "        {\n",
    "            \"label\": \"d\",\n",
    "            \"children\": [\n",
    "                {\n",
    "                    \"label\": \"g\",\n",
    "                    \"children\": [\n",
    "                        {\"label\": \"l\"},\n",
    "                        {\"label\": \"m\"}\n",
    "                    ]\n",
    "                },\n",
    "                {\"label\": \"h\"},\n",
    "                {\"label\": \"i\"}\n",
    "            ]\n",
    "        }\n",
    "    ]\n",
    "}"
   ]
  },
  {
   "cell_type": "code",
   "execution_count": null,
   "metadata": {},
   "outputs": [],
   "source": [
    "def preorder(tree):\n",
    "    # get root of tree\n",
    "    r = tree.get('label')\n",
    "    # get children of r\n",
    "    children = tree.get('children', [])\n",
    "    print(r, end = ' ')\n",
    "    for v in children:\n",
    "        preorder(v)\n",
    "\n",
    "preorder(tree)"
   ]
  },
  {
   "cell_type": "code",
   "execution_count": null,
   "metadata": {},
   "outputs": [],
   "source": [
    "def inorder(tree):\n",
    "    # get root of tree\n",
    "    r = tree.get('label')\n",
    "    # get children of r\n",
    "    children = tree.get('children', [])\n",
    "    \n",
    "    left = []\n",
    "    right = []\n",
    "    for idx, v in enumerate(children):\n",
    "        if (idx == 0):\n",
    "            left.append(v)\n",
    "        else:\n",
    "            right.append(v)\n",
    "    for v in left:\n",
    "        inorder(v)\n",
    "    print(r, end = ' ')\n",
    "    for v in right:\n",
    "        inorder(v)\n",
    "inorder(tree)"
   ]
  },
  {
   "cell_type": "code",
   "execution_count": null,
   "metadata": {},
   "outputs": [],
   "source": [
    "def postorder(tree):\n",
    "    r = tree.get('label')\n",
    "    children = tree.get('children', [])\n",
    "    for v in children:\n",
    "        postorder(v)\n",
    "    print(r, end = ' ')\n",
    "    \n",
    "postorder(tree)"
   ]
  }
 ],
 "metadata": {
  "kernelspec": {
   "display_name": "py36",
   "language": "python",
   "name": "py36"
  },
  "language_info": {
   "codemirror_mode": {
    "name": "ipython",
    "version": 3
   },
   "file_extension": ".py",
   "mimetype": "text/x-python",
   "name": "python",
   "nbconvert_exporter": "python",
   "pygments_lexer": "ipython3",
   "version": "3.6.8"
  }
 },
 "nbformat": 4,
 "nbformat_minor": 2
}
