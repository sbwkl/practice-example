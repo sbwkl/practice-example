{
 "cells": [
  {
   "cell_type": "code",
   "execution_count": null,
   "metadata": {},
   "outputs": [],
   "source": [
    "import pandas as pd\n",
    "import datetime"
   ]
  },
  {
   "cell_type": "code",
   "execution_count": null,
   "metadata": {},
   "outputs": [],
   "source": [
    "day = datetime.datetime.now().strftime('%Y-%m-%d')"
   ]
  },
  {
   "cell_type": "code",
   "execution_count": null,
   "metadata": {},
   "outputs": [],
   "source": [
    "p1 = pd.read_csv('C:/Users/wayne.wang/Downloads/warehouse-sum-v1 {}.csv'.format(day))\n",
    "p2 = pd.read_csv('C:/Users/wayne.wang/Downloads/warehouse-sum-v2 {}.csv'.format(day))\n",
    "\n",
    "pc = p1[['cost_date', 'warehouse', 'order_num']]\n",
    "# pc['match'] = p1['warehouse'] == p2['warehouse']\n",
    "pc['order_num_v2'] = p2['order_num']\n",
    "pc['order_num_diff'] = p1['order_num'] - p2['order_num']\n",
    "\n",
    "costs = ['total_cost', 'person_cost_actual', 'daily_cost_actual', 'consume_cost_actual', 'express_cost_actual', 'custom_cost_actual', 'platform_cost_actual', 'undertake_cost_actual', 'house_cost_actual', 'fixed_cost_actual']\n",
    "\n",
    "select_columns_base = ['total', 'express']\n",
    "for text in costs:\n",
    "    c = text.split('_')[0]\n",
    "    pc[c] = p1[text]\n",
    "    pc[c + '_v2'] = p2[text]\n",
    "    pc[c + '_diff'] = p1[text] - p2[text]\n",
    "    pc[c + '_diff/order'] = pc[c + '_diff'] / pc['order_num']\n",
    "# pc['cost_date'] = pc['cost_date'].apply(lambda x: x[:10])\n",
    "pc['cost_date'] = '5.1-5.16'\n",
    "select_columns_actual = ['cost_date', 'warehouse', 'order_num', 'order_num_v2', 'order_num_diff']\n",
    "for s in select_columns_base:\n",
    "    select_columns_actual.append(s)\n",
    "    select_columns_actual.append(s + '_v2')\n",
    "    select_columns_actual.append(s + '_diff')\n",
    "    select_columns_actual.append(s + '_diff/order')\n",
    "    \n",
    "pc[select_columns_actual]\n",
    "\n",
    "# pc.loc[pc['total_diff/order'].abs() >= 0.1]"
   ]
  },
  {
   "cell_type": "code",
   "execution_count": null,
   "metadata": {},
   "outputs": [],
   "source": [
    "p1 = pd.read_csv('C:/Users/wayne.wang/Downloads/warehouse-daily-v1 {}.csv'.format(day, day))\n",
    "p2 = pd.read_csv('C:/Users/wayne.wang/Downloads/warehouse-daily-v2 {}.csv'.format(day, day))\n",
    "\n",
    "pc = p1[['cost_date', 'warehouse', 'order_num', 'good_num']]\n",
    "# pc['match'] = p1['warehouse'] == p2['warehouse']\n",
    "pc['order_num_v2'] = p2['order_num']\n",
    "pc['order_num_diff'] = p1['order_num'] - p2['order_num']\n",
    "\n",
    "pc['good_num_v2'] = p2['good_num']\n",
    "pc['good_num_diff'] = p1['good_num'] - p2['good_num']\n",
    "\n",
    "costs = ['total_cost', 'person_cost_actual', 'daily_cost_actual', 'consume_cost_actual', 'express_cost_actual', 'custom_cost_actual', 'platform_cost_actual', 'undertake_cost_actual', 'house_cost_actual', 'fixed_cost_actual']\n",
    "\n",
    "select_columns_base = ['daily', 'custom', 'fixed']\n",
    "diff_columns = []\n",
    "for text in costs:\n",
    "    c = text.split('_')[0]\n",
    "    pc[c] = p1[text]\n",
    "    pc[c + '_v2'] = p2[text]\n",
    "    pc[c + '_diff'] = p1[text] - p2[text]\n",
    "    pc[c + '_diff/order'] = pc[c + '_diff'] / pc['order_num']\n",
    "    diff_columns.append(c + '_diff')\n",
    "pc['cost_date'] = pc['cost_date'].apply(lambda x: x[:10])\n",
    "\n",
    "select_columns_actual = ['cost_date', 'warehouse', 'order_num', 'order_num_v2', 'order_num_diff', 'good_num', 'good_num_v2', 'good_num_diff']\n",
    "\n",
    "for s in select_columns_base:\n",
    "    select_columns_actual.append(s)\n",
    "    select_columns_actual.append(s + '_v2')\n",
    "    select_columns_actual.append(s + '_diff')\n",
    "    select_columns_actual.append(s + '_diff/order')\n",
    "    \n",
    "# pc[select_columns_actual].to_csv('2019-05-16/warehouse-daily-diff.csv')\n",
    "pc[select_columns_actual]\n",
    "pc['差异较大'] = pc['total_diff/order'].abs() > 0.2\n",
    "pc.loc[(pc['total_diff/order'].abs() >= 0.2) & (pc['warehouse'] != '1HD8')][['cost_date', 'warehouse', 'order_num', 'order_num_v2', 'order_num_diff', 'good_num_diff'] + diff_columns]\n",
    "pc.loc[(pc['cost_date'] >= '2019-05-17') & pc['total_diff'] != 0][['cost_date', 'warehouse', 'order_num', 'order_num_v2', 'order_num_diff', 'good_num_diff'] + diff_columns]\n",
    "pc.loc[(pc['cost_date'] >= '2019-05-17') & pc['total_diff'] != 0][select_columns_actual]"
   ]
  },
  {
   "cell_type": "code",
   "execution_count": null,
   "metadata": {},
   "outputs": [],
   "source": [
    "p1 = pd.read_csv('C:/Users/wayne.wang/Downloads/SQLPad Query Results 2019-05-17-1.csv'.format(day, day))\n",
    "p2 = pd.read_csv('C:/Users/wayne.wang/Downloads/SQLPad Query Results 2019-05-17.csv'.format(day, day))\n",
    "\n",
    "s1 = set(p1['shipping_no'].tolist())\n",
    "s2 = set(p2['shipping_no'].tolist())\n",
    "s1 - s2"
   ]
  }
 ],
 "metadata": {
  "kernelspec": {
   "display_name": "py36",
   "language": "python",
   "name": "py36"
  },
  "language_info": {
   "codemirror_mode": {
    "name": "ipython",
    "version": 3
   },
   "file_extension": ".py",
   "mimetype": "text/x-python",
   "name": "python",
   "nbconvert_exporter": "python",
   "pygments_lexer": "ipython3",
   "version": "3.6.8"
  }
 },
 "nbformat": 4,
 "nbformat_minor": 2
}
