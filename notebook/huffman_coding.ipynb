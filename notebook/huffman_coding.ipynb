{
 "cells": [
  {
   "cell_type": "code",
   "execution_count": 23,
   "metadata": {},
   "outputs": [],
   "source": [
    "a = {'name': 'a', 'val': 0.08}\n",
    "b = {'name': 'b', 'val': 0.10}\n",
    "c = {'name': 'c', 'val': 0.12}\n",
    "d = {'name': 'd', 'val': 0.15}\n",
    "e = {'name': 'e', 'val': 0.20}\n",
    "f = {'name': 'f', 'val': 0.35}\n",
    "\n",
    "forest = [a, b, c, d, e, f]\n",
    "\n",
    "def huffman_coding(forest):\n",
    "    idx = 0\n",
    "    while len(forest) > 1:\n",
    "        m1 = get_min_val(forest)\n",
    "        forest.remove(m1)\n",
    "        m2 = get_min_val(forest)\n",
    "        forest.remove(m2)\n",
    "        w = {\n",
    "            'name': 'w' + str(idx),\n",
    "            'val': m1.get('val') + m2.get('val'),\n",
    "            'left': m2,\n",
    "            'right': m1\n",
    "        }\n",
    "        forest.append(w)\n",
    "        idx += 1\n",
    "\n",
    "def print_code(tree, code):\n",
    "    if not tree.get('left') and not tree.get('right'):\n",
    "        ## 左右节点都没了，是叶子节点\n",
    "        print(tree.get('name') + ' => ' + code)\n",
    "    if tree.get('left'):\n",
    "        print_code(tree.get('left'), code + '0')\n",
    "    if tree.get('right'):\n",
    "        print_code(tree.get('right'), code + '1')\n",
    "        \n",
    "def get_min_val(forest):\n",
    "    m = forest[0]\n",
    "    for tree in forest:\n",
    "        if m.get('val') > tree.get('val'):\n",
    "            m = tree\n",
    "    return m\n",
    "\n",
    "huffman_coding(forest)\n",
    "print_code(forest[0], '')\n"
   ]
  }
 ],
 "metadata": {
  "kernelspec": {
   "display_name": "py36",
   "language": "python",
   "name": "py36"
  },
  "language_info": {
   "codemirror_mode": {
    "name": "ipython",
    "version": 3
   },
   "file_extension": ".py",
   "mimetype": "text/x-python",
   "name": "python",
   "nbconvert_exporter": "python",
   "pygments_lexer": "ipython3",
   "version": "3.6.8"
  }
 },
 "nbformat": 4,
 "nbformat_minor": 2
}
