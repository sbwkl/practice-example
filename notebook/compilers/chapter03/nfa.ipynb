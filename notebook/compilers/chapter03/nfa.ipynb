{
 "cells": [
  {
   "cell_type": "code",
   "execution_count": null,
   "metadata": {},
   "outputs": [],
   "source": [
    "new_states = []\n",
    "old_states = []\n",
    "\n",
    "already_on = [False for i in range(1, 12)]\n",
    "\n",
    "# (a|b)*abb\n",
    "move = [{'a': [], 'b': [], '': []} for i in range(1, 12)]\n",
    "move[0][''] = [1, 7]\n",
    "move[1][''] = [2, 4]\n",
    "move[2]['a'] = [3]\n",
    "move[3][''] = [6]\n",
    "move[4]['b'] = [5]\n",
    "move[5][''] = [6]\n",
    "move[6][''] = [1, 7]\n",
    "move[7]['a'] = [8]\n",
    "move[8]['b'] = [9]\n",
    "move[9]['b'] = [10]"
   ]
  },
  {
   "cell_type": "code",
   "execution_count": null,
   "metadata": {},
   "outputs": [],
   "source": [
    "def add_state(s):\n",
    "    new_states.append(s)\n",
    "    already_on[s] = True\n",
    "    for t in move[s]['']:\n",
    "        if not already_on[t]:\n",
    "            add_state(t)"
   ]
  },
  {
   "cell_type": "code",
   "execution_count": null,
   "metadata": {},
   "outputs": [],
   "source": [
    "def iterate_states(c):\n",
    "    while old_states:\n",
    "        s = old_states.pop()\n",
    "        for t in move[s][c]:\n",
    "            if not already_on[t]:\n",
    "                add_state(t)\n",
    "        \n",
    "    while new_states:\n",
    "        s = new_states.pop()\n",
    "        old_states.append(s)\n",
    "        already_on[s] = False"
   ]
  },
  {
   "cell_type": "code",
   "execution_count": null,
   "metadata": {},
   "outputs": [],
   "source": [
    "def nfa():\n",
    "    add_state(0)\n",
    "    while new_states:\n",
    "        s = new_states.pop()\n",
    "        old_states.append(s)\n",
    "        already_on[s] = False\n",
    "\n",
    "    c = next_char()\n",
    "    while c != '\\0':\n",
    "        iterate_states(c)\n",
    "        c = next_char()\n",
    "    return 10 in old_states"
   ]
  },
  {
   "cell_type": "code",
   "execution_count": null,
   "metadata": {},
   "outputs": [],
   "source": [
    "def next_char():\n",
    "    global i\n",
    "    global input\n",
    "    if i < len(input):\n",
    "        c = input[i]\n",
    "    else:\n",
    "        c = '\\0'\n",
    "    i += 1\n",
    "    return c"
   ]
  },
  {
   "cell_type": "code",
   "execution_count": null,
   "metadata": {},
   "outputs": [],
   "source": [
    "i = 0\n",
    "input = 'abb'\n",
    "print(nfa())\n"
   ]
  }
 ],
 "metadata": {
  "interpreter": {
   "hash": "472d667032c10a1bcfe44a0ac7fce308593da9d0aa0ef642ef6fd30d47211a6d"
  },
  "kernelspec": {
   "display_name": "Python 3.7.13 ('py37')",
   "language": "python",
   "name": "python3"
  },
  "language_info": {
   "codemirror_mode": {
    "name": "ipython",
    "version": 3
   },
   "file_extension": ".py",
   "mimetype": "text/x-python",
   "name": "python",
   "nbconvert_exporter": "python",
   "pygments_lexer": "ipython3",
   "version": "3.7.13"
  },
  "orig_nbformat": 4
 },
 "nbformat": 4,
 "nbformat_minor": 2
}
