{
 "cells": [
  {
   "cell_type": "code",
   "execution_count": null,
   "metadata": {},
   "outputs": [],
   "source": [
    "import pandas as pd\n",
    "import sqlite3\n",
    "import re\n",
    "import matplotlib.pyplot as plt\n",
    "\n",
    "from datetime import datetime\n",
    "from peewee import *\n"
   ]
  },
  {
   "cell_type": "code",
   "execution_count": null,
   "metadata": {},
   "outputs": [],
   "source": [
    "sqlite_db = SqliteDatabase('nhc-data.db', pragmas={'journal_mode': 'wal'})\n",
    "\n",
    "class BaseModel(Model):\n",
    "    \"\"\"A base model that will use our Sqlite database.\"\"\"\n",
    "    class Meta:\n",
    "        database = sqlite_db\n",
    "\n",
    "class YqtbDataModel(BaseModel):\n",
    "\n",
    "    class Meta:\n",
    "        db_table = 'yqtb_data'\n",
    "    \n",
    "    id = PrimaryKeyField()\n",
    "    gmt_date = IntegerField()\n",
    "    source = TextField()\n",
    "    province = TextField()\n",
    "    city = TextField()\n",
    "    diagnosed_cnt = IntegerField()\n",
    "    carrier_cnt = IntegerField()"
   ]
  },
  {
   "cell_type": "code",
   "execution_count": null,
   "metadata": {},
   "outputs": [],
   "source": [
    "province_list = ['北京', '天津', '河北', '山西', '内蒙古', '辽宁', '吉林', '黑龙江', '上海', \n",
    "'江苏', '浙江', '安徽', '福建', '江西', '山东', '河南', '湖北', '湖南', '广东', '广西', '海南', '重庆', \n",
    "'四川', '贵州', '云南', '西藏', '陕西', '甘肃', '青海', '宁夏', '新疆', '台湾', '香港', '澳门']"
   ]
  },
  {
   "cell_type": "code",
   "execution_count": null,
   "metadata": {},
   "outputs": [],
   "source": [
    "def get_con():\n",
    "    con = sqlite3.connect('nhc-data.db')\n",
    "    return con"
   ]
  },
  {
   "cell_type": "code",
   "execution_count": null,
   "metadata": {},
   "outputs": [],
   "source": [
    "def province_base_parse(core_str):\n",
    "    item_list = []\n",
    "    for province in province_list:\n",
    "        regex = province + '(\\d+)例'\n",
    "        pm = re.search(regex, core_str)\n",
    "        if pm is None:\n",
    "            continue\n",
    "        item_list.append({\n",
    "            'province': province,\n",
    "            'value': int(pm.group(1))\n",
    "        })\n",
    "    return item_list"
   ]
  },
  {
   "cell_type": "code",
   "execution_count": null,
   "metadata": {},
   "outputs": [],
   "source": [
    "def comma_base_parse(source, core_str):\n",
    "    item_list = []\n",
    "    for word in core_str.split('，'):\n",
    "        pm = re.search('^(.*)\\d+', word)\n",
    "        if pm is None:\n",
    "            raise ValueError('section: {} word: {}'.format(core_str, word))\n",
    "        province = pm.group(1)\n",
    "        diagnosed = re.search('\\d+', word).group()\n",
    "        item_list.append({\n",
    "            'source': source, \n",
    "            'province': province, \n",
    "            'diagnosed': diagnosed\n",
    "        })"
   ]
  },
  {
   "cell_type": "code",
   "execution_count": null,
   "metadata": {},
   "outputs": [],
   "source": [
    "def semicolon_base_parse(core_str):\n",
    "    item_list = []\n",
    "    for word in core_str.split('；'):\n",
    "        word = word.split('，')[0]\n",
    "        diagnosed = re.search('\\d+', word).group()\n",
    "        province = word.split(diagnosed)[0]\n",
    "        item_list.append({\n",
    "            'province': province,\n",
    "            'value': int(diagnosed)\n",
    "        })\n",
    "    return item_list"
   ]
  },
  {
   "cell_type": "code",
   "execution_count": null,
   "metadata": {},
   "outputs": [],
   "source": [
    "def save_item(item):\n",
    "    gmt_date = item.get('gmt_date')\n",
    "    province = item.get('province')\n",
    "    city = item.get('city', province)\n",
    "    source = item.get('source')\n",
    "    entity = YqtbDataModel.get_or_none(YqtbDataModel.gmt_date == gmt_date, YqtbDataModel.province == province, \\\n",
    "        YqtbDataModel.city == city, YqtbDataModel.source == source)\n",
    "    if entity is None:\n",
    "        entity = YqtbDataModel()\n",
    "        entity.gmt_date = gmt_date\n",
    "        entity.province = province\n",
    "        entity.city = city\n",
    "        entity.source = source\n",
    "    \n",
    "    if item.get('diagnosed_cnt') is not None:\n",
    "        entity.diagnosed_cnt = item.get('diagnosed_cnt')\n",
    "    if item.get('carrier_cnt') is not None:\n",
    "        entity.carrier_cnt = item.get('carrier_cnt')\n",
    "    entity.save()\n"
   ]
  },
  {
   "cell_type": "code",
   "execution_count": null,
   "metadata": {},
   "outputs": [],
   "source": [
    "def process_row(row):\n",
    "    title = row['link_data']\n",
    "    date_date = row['date_date']\n",
    "    match = re.search('截至(.*)24时新型冠状病毒肺炎疫情最新情况', title)\n",
    "    gmt_date = None\n",
    "    if match:\n",
    "        date_str = match.group(1)\n",
    "        gmt_date = datetime.strptime(date_date.split('-')[0] + date_str, '%Y%m月%d日')\n",
    "\n",
    "    line_list = row['content'].split('\\n')\n",
    "    line_list = [line for line in line_list if line.strip() != '']\n",
    "\n",
    "    paragraph_1 = line_list[0]\n",
    "    paragraph_2 = line_list[1]\n",
    "    paragraph_3 = line_list[2]\n",
    "    paragraph_4 = line_list[3]\n",
    "    paragraph_5 = line_list[4]\n",
    "    paragraph_6 = line_list[5]\n",
    "\n",
    "    process_paragraph_1(paragraph_1, gmt_date)\n",
    "    process_paragraph_5(paragraph_5, gmt_date)"
   ]
  },
  {
   "cell_type": "code",
   "execution_count": null,
   "metadata": {},
   "outputs": [],
   "source": [
    "\n",
    "def process_paragraph_1(paragraph_1, gmt_date):\n",
    "    section_remote = re.search('(境外输入病例.*)本土病例', paragraph_1).group(1)\n",
    "    section_local = re.search('本土病例(.*)。', paragraph_1).group(1)\n",
    "    process_section_remote(section_remote, gmt_date)\n",
    "    process_section_local(section_local, gmt_date)"
   ]
  },
  {
   "cell_type": "code",
   "execution_count": null,
   "metadata": {},
   "outputs": [],
   "source": [
    "def process_paragraph_5(paragraph_5, gmt_date):\n",
    "    match_list = re.findall('（([\\u4e00-\\u9fa5|，、；\\d]+)）', paragraph_5)\n",
    "    if len(match_list) > 1:\n",
    "        core_str = match_list[1]\n",
    "        item_list = province_base_parse(core_str)\n",
    "        for item in item_list:\n",
    "            item['source'] = '本土'\n",
    "            item['gmt_date'] = gmt_date.strftime('%Y-%m-%d')\n",
    "            item['carrier_cnt'] = item['value']\n",
    "            save_item(item)"
   ]
  },
  {
   "cell_type": "code",
   "execution_count": null,
   "metadata": {},
   "outputs": [],
   "source": [
    "def process_section_remote(section_remote, gmt_date):\n",
    "    core_str = re.search('.*（(.*)）.*无症状感染者转为确诊病例', section_remote).group(1)\n",
    "    item_list = province_base_parse(core_str)\n",
    "    for item in item_list:\n",
    "        item['source'] = '境外'\n",
    "        item['gmt_date'] = gmt_date.strftime('%Y-%m-%d')\n",
    "        item['diagnosed_cnt'] = item['value']\n",
    "        save_item(item)\n",
    "\n"
   ]
  },
  {
   "cell_type": "code",
   "execution_count": null,
   "metadata": {},
   "outputs": [],
   "source": [
    "def process_section_local(section_local, gmt_date):\n",
    "    core_str = re.search('.*（(.*)）.*无症状感染者转为确诊病例', section_local).group(1)\n",
    "    item_list = semicolon_base_parse(core_str)\n",
    "    for item in item_list:\n",
    "        item['gmt_date'] = gmt_date.strftime('%Y-%m-%d')\n",
    "        item['source'] = '本土'\n",
    "        item['diagnosed_cnt'] = item['value']\n",
    "        save_item(item)\n"
   ]
  },
  {
   "cell_type": "code",
   "execution_count": null,
   "metadata": {},
   "outputs": [],
   "source": [
    "o_data = pd.read_csv('nhc-data.csv', encoding='utf-8')\n",
    "for index, row in o_data.iterrows():\n",
    "    process_row(row)\n",
    "# first_row = o_data.iloc[0]\n",
    "# process_row(first_row)"
   ]
  },
  {
   "cell_type": "code",
   "execution_count": null,
   "metadata": {},
   "outputs": [],
   "source": [
    "def print_graph():\n",
    "\n",
    "    x = []\n",
    "    y = []\n",
    "    z = []\n",
    "    yz = []\n",
    "    query = YqtbDataModel.select().where(YqtbDataModel.source == '本土', YqtbDataModel.province == '上海', YqtbDataModel.city == '上海').order_by(YqtbDataModel.gmt_date)\n",
    "    for entity in query:\n",
    "        x.append(entity.gmt_date.split('-')[2])\n",
    "        y.append(entity.diagnosed_cnt)\n",
    "        z.append(entity.carrier_cnt)\n",
    "        yz.append(entity.diagnosed_cnt + entity.carrier_cnt)\n",
    "    plt.plot(x, y)\n",
    "    plt.show()\n",
    "\n",
    "    plt.plot(x, z)\n",
    "    plt.show()\n",
    "\n",
    "    plt.plot(x, yz)\n",
    "    plt.show()\n",
    "print_graph()"
   ]
  }
 ],
 "metadata": {
  "kernelspec": {
   "display_name": "py37",
   "language": "python",
   "name": "py37"
  },
  "language_info": {
   "codemirror_mode": {
    "name": "ipython",
    "version": 3
   },
   "file_extension": ".py",
   "mimetype": "text/x-python",
   "name": "python",
   "nbconvert_exporter": "python",
   "pygments_lexer": "ipython3",
   "version": "3.7.9"
  },
  "orig_nbformat": 4
 },
 "nbformat": 4,
 "nbformat_minor": 2
}
